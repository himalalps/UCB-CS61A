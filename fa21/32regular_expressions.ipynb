{
 "cells": [
  {
   "attachments": {},
   "cell_type": "markdown",
   "metadata": {},
   "source": [
    "# declarative programming\n",
    "\n",
    "imperative programming - desvribe what you want a computer to do\n",
    "\n",
    "declarative programming - describe the result you want a computer to produce\n",
    "\n",
    "often abstracts away the detail of how memory is changing during computation\n",
    "\n",
    "computational efficiency is often determined by the interpreter or language"
   ]
  },
  {
   "attachments": {},
   "cell_type": "markdown",
   "metadata": {},
   "source": [
    "general-purpose - designed to describe any computation\n",
    "\n",
    "domain-specific - designed to solve particular classes of problems"
   ]
  },
  {
   "attachments": {},
   "cell_type": "markdown",
   "metadata": {},
   "source": [
    "# regular expression\n",
    "\n",
    "matching individual characters\n",
    "\n",
    "except for special characters(`\\ ( ) [ ] { } + * ? | $ . ^`), a single character in a regex matches itself in a string, a sequence of characters in a regex matches that same sequence in a string\n",
    "\n",
    "to match a special character, it must be escaped in the regex by placing a `\\` before it\n",
    "\n",
    "`\\(\\\\\\._\\./\\)` matches `(\\._./)`)"
   ]
  },
  {
   "attachments": {},
   "cell_type": "markdown",
   "metadata": {},
   "source": [
    "## character categories\n",
    "\n",
    "- `.` matches any character\n",
    "- `\\w` matches letters, numbers or _\n",
    "- `\\d` matches a digit\n",
    "- `\\s` matches a whitespace character(space, tab, newline)\n",
    "- `[...]` encloses a list of option or ranges, can contain `\\d` and `\\w` and ranges such as `0-5`\n",
    "\n",
    "## groups\n",
    "\n",
    "surrounded by parentheses, have several purposes, correspond to substring, match the whole pattern also matches each group\n",
    "\n",
    "`Fall 20(\\d\\d)` matches `Fall 2021` and group matches `21`\n",
    "\n",
    "`|` character mathces either of two sequences\n",
    "`(Fall|Spring) 20(\\d\\d)` matches either `Fall 2021` or `Spring 2021`\n",
    "\n",
    "a whole group can be repeated multiple times\n",
    "\n",
    "`l(ol)+` matches `lol` and `lolol` and `lololol` but not `lolo`"
   ]
  },
  {
   "attachments": {},
   "cell_type": "markdown",
   "metadata": {},
   "source": [
    "## quantifiers\n",
    "\n",
    "quantifier expression(`*, +, ?, {...}`)\n",
    "\n",
    "- `+` one or more\n",
    "- `*` zero or more\n",
    "- `?` zero or one\n",
    "- `{min, max}` a particular number, `{number}` number is both min and max"
   ]
  },
  {
   "attachments": {},
   "cell_type": "markdown",
   "metadata": {},
   "source": [
    "## anchors\n",
    "\n",
    "anchors describe the context within a longer string that a pattern can appear, `^` begin, `$` end of the whole string, and `\\b` the begin or end of a word\n",
    "\n",
    "`Tell Oski that he lost his hat`\n",
    "\n",
    "of the above string, `^\\w+` matches `Tell`, `.t$` matches `at`, `.s\\b`matches `is`"
   ]
  },
  {
   "attachments": {},
   "cell_type": "markdown",
   "metadata": {},
   "source": [
    "# using regex\n",
    "\n",
    "`re` module in python has `search`, `fullmatch`, `findall`, `sub` and more"
   ]
  },
  {
   "cell_type": "code",
   "execution_count": 1,
   "metadata": {},
   "outputs": [],
   "source": [
    "import re\n",
    "def email(s):\n",
    "    return bool(re.fullmatch(r'\\w+@(\\w+\\.)+[A-Za-z]{3}', s))"
   ]
  },
  {
   "attachments": {},
   "cell_type": "markdown",
   "metadata": {},
   "source": [
    "use a raw string preceded by `r` to stop python from treating `\\` as an escape character\n",
    "\n"
   ]
  },
  {
   "cell_type": "code",
   "execution_count": 2,
   "metadata": {},
   "outputs": [
    {
     "data": {
      "text/plain": [
       "<re.Match object; span=(0, 17), match='boskier graybeard'>"
      ]
     },
     "execution_count": 2,
     "metadata": {},
     "output_type": "execute_result"
    }
   ],
   "source": [
    "s = 'boskier graybeard'\n",
    "p = r'b(.*)er.{5}(.+).'\n",
    "m = re.fullmatch(p, s)\n",
    "m"
   ]
  },
  {
   "cell_type": "code",
   "execution_count": 3,
   "metadata": {},
   "outputs": [
    {
     "data": {
      "text/plain": [
       "'boskier graybeard'"
      ]
     },
     "execution_count": 3,
     "metadata": {},
     "output_type": "execute_result"
    }
   ],
   "source": [
    "m.group(0)"
   ]
  },
  {
   "cell_type": "code",
   "execution_count": 4,
   "metadata": {},
   "outputs": [
    {
     "data": {
      "text/plain": [
       "'oski'"
      ]
     },
     "execution_count": 4,
     "metadata": {},
     "output_type": "execute_result"
    }
   ],
   "source": [
    "m.group(1)"
   ]
  },
  {
   "cell_type": "code",
   "execution_count": 5,
   "metadata": {},
   "outputs": [
    {
     "data": {
      "text/plain": [
       "'bear'"
      ]
     },
     "execution_count": 5,
     "metadata": {},
     "output_type": "execute_result"
    }
   ],
   "source": [
    "m.group(2)"
   ]
  },
  {
   "attachments": {},
   "cell_type": "markdown",
   "metadata": {},
   "source": [
    "# ambiguous\n",
    "\n",
    "`re.search` returns the first match within a string"
   ]
  },
  {
   "cell_type": "code",
   "execution_count": 6,
   "metadata": {},
   "outputs": [
    {
     "data": {
      "text/plain": [
       "<re.Match object; span=(3, 13), match='California'>"
      ]
     },
     "execution_count": 6,
     "metadata": {},
     "output_type": "execute_result"
    }
   ],
   "source": [
    "re.search(r'Cal(ifornia)?', 'Is California known as Cal?')"
   ]
  },
  {
   "cell_type": "code",
   "execution_count": 7,
   "metadata": {},
   "outputs": [
    {
     "data": {
      "text/plain": [
       "<re.Match object; span=(3, 25), match='California known as Ca'>"
      ]
     },
     "execution_count": 7,
     "metadata": {},
     "output_type": "execute_result"
    }
   ],
   "source": [
    "re.search(r'Cal.*a', 'Is California known as Cal?')"
   ]
  },
  {
   "cell_type": "code",
   "execution_count": 8,
   "metadata": {},
   "outputs": [
    {
     "data": {
      "text/plain": [
       "'iforni'"
      ]
     },
     "execution_count": 8,
     "metadata": {},
     "output_type": "execute_result"
    }
   ],
   "source": [
    "re.search(r'Cal(\\w*i)\\w*', 'Is California known as Cal?').group(1)"
   ]
  },
  {
   "attachments": {},
   "cell_type": "markdown",
   "metadata": {},
   "source": [
    "the choice to the left of `|` is prefered"
   ]
  },
  {
   "cell_type": "code",
   "execution_count": 9,
   "metadata": {},
   "outputs": [
    {
     "data": {
      "text/plain": [
       "<re.Match object; span=(3, 6), match='Cal'>"
      ]
     },
     "execution_count": 9,
     "metadata": {},
     "output_type": "execute_result"
    }
   ],
   "source": [
    "re.search(r'Cal|California', 'Is California known as Cal?')"
   ]
  },
  {
   "attachments": {},
   "cell_type": "markdown",
   "metadata": {},
   "source": [
    "## lazy quantification\n",
    "`\n",
    "`*?`, `+?` `??` correspond to `*`, `+` and `?` but match as little as possible"
   ]
  },
  {
   "cell_type": "code",
   "execution_count": 11,
   "metadata": {},
   "outputs": [
    {
     "data": {
      "text/plain": [
       "<re.Match object; span=(3, 6), match='Cal'>"
      ]
     },
     "execution_count": 11,
     "metadata": {},
     "output_type": "execute_result"
    }
   ],
   "source": [
    "re.search(r'Cal(ifornia)??', 'Is California known as Cal?')"
   ]
  },
  {
   "cell_type": "code",
   "execution_count": 12,
   "metadata": {},
   "outputs": [
    {
     "data": {
      "text/plain": [
       "<re.Match object; span=(3, 13), match='California'>"
      ]
     },
     "execution_count": 12,
     "metadata": {},
     "output_type": "execute_result"
    }
   ],
   "source": [
    "re.search(r'Cal.*?a', 'Is California known as Cal?')"
   ]
  },
  {
   "cell_type": "code",
   "execution_count": null,
   "metadata": {},
   "outputs": [],
   "source": []
  }
 ],
 "metadata": {
  "kernelspec": {
   "display_name": "Python 3",
   "language": "python",
   "name": "python3"
  },
  "language_info": {
   "codemirror_mode": {
    "name": "ipython",
    "version": 3
   },
   "file_extension": ".py",
   "mimetype": "text/x-python",
   "name": "python",
   "nbconvert_exporter": "python",
   "pygments_lexer": "ipython3",
   "version": "3.9.12 (tags/v3.9.12:b28265d, Mar 23 2022, 23:52:46) [MSC v.1929 64 bit (AMD64)]"
  },
  "orig_nbformat": 4,
  "vscode": {
   "interpreter": {
    "hash": "8f939dc046ae95b61db57b1ddfb635e5199eac9f7bf30422bfd106b8f44dc254"
   }
  }
 },
 "nbformat": 4,
 "nbformat_minor": 2
}
