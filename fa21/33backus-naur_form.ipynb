{
 "cells": [
  {
   "attachments": {},
   "cell_type": "markdown",
   "metadata": {},
   "source": [
    "# describing code\n",
    "\n",
    "languages with recursive structure\n",
    "\n",
    "programming languages often have recursive structure (even if they do not support recursion)\n",
    "\n",
    "sometimes it's hard to use regex to identify the pattern of some languages\n",
    "\n",
    "e.g. the parenthese language: `<<<><<>><<<>>><><>>>`\n",
    "\n",
    "the regex `[<>]+` is too expressive, it matches `><` or `<>>`, using regex can only match finite depth of such languages"
   ]
  },
  {
   "attachments": {},
   "cell_type": "markdown",
   "metadata": {},
   "source": [
    "# context-free grammar\n",
    "\n",
    "a language has\n",
    "- syntax\n",
    "- semantics\n",
    "\n",
    "*grammar* is a compact description of the syntax of a language\n",
    "\n",
    "*regular language* is a language whose syntax can be described by a regex\n",
    "\n",
    "*context-free language* has syntax that can be described by a **context-free grammar**"
   ]
  },
  {
   "attachments": {},
   "cell_type": "markdown",
   "metadata": {},
   "source": [
    "## bakus-naur form\n",
    "\n",
    "a particular syntax for describing context-free grammars\n",
    "\n",
    "```BNF\n",
    "?start: expr\n",
    "expr: OPEN CLOSE | OPEN exprs CLOSE\n",
    "exprs: expr | expr exprs\n",
    "OPEN: \"<\"\n",
    "CLOSE: \">\"\n",
    "```\n",
    "\n",
    "`lark` python module on [code.cs61a.org](code.cs61a.org) has its own flavor of BNF"
   ]
  },
  {
   "attachments": {},
   "cell_type": "markdown",
   "metadata": {},
   "source": [
    "## detail\n",
    "\n",
    "special symbol `?start` corrsponds to a complete expression\n",
    "\n",
    "symbols in all caps are terminals\n",
    "- only contain /regular expressions/, \"text\" and other TERMINALS\n",
    "- no recursion is allowed within terminals\n",
    "\n",
    "unnamed literals within non-terminals do not show up in the parse tree\n",
    "\n",
    "```BNF\n",
    "?start: numbers\n",
    "numbers: INTEGER | numbers \",\" INTEGER\n",
    "INTEGER: \"0\" | /-?[1-9]\\d*/\n",
    "\n",
    "%ignore /\\s+/\n",
    "```"
   ]
  },
  {
   "attachments": {},
   "cell_type": "markdown",
   "metadata": {},
   "source": [
    "## extended BNF\n",
    "\n",
    "- `(item item ..)`\n",
    "- `[item item ..]`\n",
    "- `item?`\n",
    "- `item*`\n",
    "- `item+`\n",
    "- `item ~ n` exactly n\n",
    "- `item ~ n..m` between n and m"
   ]
  },
  {
   "attachments": {},
   "cell_type": "markdown",
   "metadata": {},
   "source": [
    "- `%import`\n",
    "- `?` omit the element only appears once\n",
    "\n",
    "```BNF\n",
    "?start: expr\n",
    "?expr: NUMBER | call\n",
    "call: \"(\" OPERATOR expr* \")\"\n",
    "OPERATOR: \"+\" | \"-\" | \"*\" | \"/\"\n",
    "%ignore /\\s+/\n",
    "%import common.NUMBER\n",
    "```"
   ]
  },
  {
   "attachments": {},
   "cell_type": "markdown",
   "metadata": {},
   "source": [
    "## ambiguity\n",
    "\n",
    "```BNF\n",
    "?start: expr\n",
    "?expr: mul_expr | expr PLUS mul_expr\n",
    "?mul_expr: NUMBER | mul_expr TIMES NUMBER\n",
    "PLUS: \"+\"\n",
    "TIMES: \"*\"\n",
    "%import common.NUMBER\n",
    "```\n",
    "\n",
    "above can parse time first then plus second in `1 + 2 * 3`"
   ]
  }
 ],
 "metadata": {
  "kernelspec": {
   "display_name": "Python 3",
   "language": "python",
   "name": "python3"
  },
  "language_info": {
   "name": "python",
   "version": "3.9.12 (tags/v3.9.12:b28265d, Mar 23 2022, 23:52:46) [MSC v.1929 64 bit (AMD64)]"
  },
  "orig_nbformat": 4,
  "vscode": {
   "interpreter": {
    "hash": "8f939dc046ae95b61db57b1ddfb635e5199eac9f7bf30422bfd106b8f44dc254"
   }
  }
 },
 "nbformat": 4,
 "nbformat_minor": 2
}
