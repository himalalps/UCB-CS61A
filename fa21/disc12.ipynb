{
 "cells": [
  {
   "attachments": {},
   "cell_type": "markdown",
   "metadata": {},
   "source": [
    "# Q1: lambda BNF"
   ]
  },
  {
   "attachments": {},
   "cell_type": "markdown",
   "metadata": {},
   "source": [
    "# Q2: SELECTs in BNF\n",
    "\n",
    "```BNF\n",
    "?start: select_statement\n",
    "select_statement: \"SELECT\" columns \"FROM\" table \"WHERE\" condition (\"AND\" condition)* \";\"\n",
    "columns: WORD (\",\" WORD)*\n",
    "table: WORD (\",\" WORD)*\n",
    "condition: WORD COMPARATOR NUMBER \n",
    "COMPARATOR: \"<\" | \">\" | \"=\" | \">=\" | \"<=\" | \"!=\"\n",
    "%import common.WORD\n",
    "%import common.NUMBER\n",
    "%ignore /\\s+/\n",
    "```"
   ]
  },
  {
   "attachments": {},
   "cell_type": "markdown",
   "metadata": {},
   "source": [
    "# Q6: email domain validator"
   ]
  },
  {
   "cell_type": "code",
   "execution_count": null,
   "metadata": {},
   "outputs": [],
   "source": [
    "import re\n",
    "def email_validator(email, domains):\n",
    "    \"\"\"\n",
    "    >>> email_validator(\"oski@berkeley.edu\", [\"berkeley.edu\", \"gmail.com\"])\n",
    "    True\n",
    "    >>> email_validator(\"oski@gmail.com\", [\"berkeley.edu\", \"gmail.com\"])\n",
    "    True\n",
    "    >>> email_validator(\"oski@berkeley.com\", [\"berkeley.edu\", \"gmail.com\"])\n",
    "    False\n",
    "    >>> email_validator(\"oski@berkeley.edu\", [\"yahoo.com\"])\n",
    "    False\n",
    "    >>> email_validator(\"xX123_iii_OSKI_iii_123Xx@berkeley.edu\", [\"berkeley.edu\", \"gmail.com\"])\n",
    "    True\n",
    "    >>> email_validator(\"oski@oski@berkeley.edu\", [\"berkeley.edu\", \"gmail.com\"])\n",
    "    False\n",
    "    >>> email_validator(\"oski@berkeleysedu\", [\"berkeley.edu\", \"gmail.com\"])\n",
    "    False\n",
    "    \"\"\"\n",
    "    pattern = r'^\\w+@('\n",
    "    for domain in domains:\n",
    "        if domain == domains[-1]:\n",
    "            pattern += domain[:-4] + r'\\.' + domain[-3:] + r')$'\n",
    "        else:\n",
    "            pattern += domain[:-4] + r'\\.' + domain[-3:] + r'|'\n",
    "    return bool(re.search(pattern, email))\n",
    "    # below is the elegant one\n",
    "    domain_list = \"|\".join([domain.replace(\".\", \"\\.\") for domain in domains])\n",
    "    return bool(re.search(rf\"^\\w+@({domain_list})$\", email))"
   ]
  }
 ],
 "metadata": {
  "kernelspec": {
   "display_name": "Python 3",
   "language": "python",
   "name": "python3"
  },
  "language_info": {
   "name": "python",
   "version": "3.9.12 (tags/v3.9.12:b28265d, Mar 23 2022, 23:52:46) [MSC v.1929 64 bit (AMD64)]"
  },
  "orig_nbformat": 4,
  "vscode": {
   "interpreter": {
    "hash": "8f939dc046ae95b61db57b1ddfb635e5199eac9f7bf30422bfd106b8f44dc254"
   }
  }
 },
 "nbformat": 4,
 "nbformat_minor": 2
}
