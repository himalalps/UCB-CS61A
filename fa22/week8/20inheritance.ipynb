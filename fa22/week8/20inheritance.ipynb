{
 "cells": [
  {
   "attachments": {},
   "cell_type": "markdown",
   "metadata": {},
   "source": [
    "# attributes\n",
    "\n",
    "all objects have attributes, which are name-value pairs\n",
    "\n",
    "## attributes assignment\n",
    "\n",
    "- object is an instance, assignment sets an instance attribute\n",
    "- object is a class, assignment sets a class attribute"
   ]
  },
  {
   "attachments": {},
   "cell_type": "markdown",
   "metadata": {},
   "source": [
    "# inheritance\n",
    "\n",
    "a method for relating classes together\n",
    "\n",
    "common - two similar classes differ in their degree of specialization\n",
    "\n",
    "```python\n",
    "class <name> (<base class>):\n",
    "    <suite>\n",
    "```\n",
    "\n",
    "share\n",
    "\n",
    "override\n"
   ]
  },
  {
   "cell_type": "code",
   "execution_count": 1,
   "metadata": {},
   "outputs": [],
   "source": [
    "class Account:\n",
    "    def __init__(self, account_holder):\n",
    "        self.balance = 0\n",
    "        self.holder = account_holder\n",
    "\n",
    "    def deposit(self, amount):\n",
    "        self.balance += amount\n",
    "        return self.balance\n",
    "    \n",
    "    def withdraw(self, amount):\n",
    "        if amount > self.balance:\n",
    "            return 'Insufficient funds'\n",
    "        self.balance -= amount\n",
    "        return self.balance\n",
    "    \n",
    "class CheckingAccount(Account):\n",
    "    withdraw_fee = 1\n",
    "    interest = 0.01\n",
    "    def withdraw(self, amount):\n",
    "        return Account.withdraw(self, amount + self.withdraw_fee)"
   ]
  },
  {
   "attachments": {},
   "cell_type": "markdown",
   "metadata": {},
   "source": [
    "base class attributes aren'y copied into subclasses"
   ]
  },
  {
   "cell_type": "code",
   "execution_count": 2,
   "metadata": {},
   "outputs": [
    {
     "data": {
      "text/plain": [
       "0.01"
      ]
     },
     "execution_count": 2,
     "metadata": {},
     "output_type": "execute_result"
    }
   ],
   "source": [
    "ch = CheckingAccount('Tom') # calls Account.__init__\n",
    "ch.interest # found in CheckingAccount"
   ]
  },
  {
   "cell_type": "code",
   "execution_count": 3,
   "metadata": {},
   "outputs": [
    {
     "data": {
      "text/plain": [
       "20"
      ]
     },
     "execution_count": 3,
     "metadata": {},
     "output_type": "execute_result"
    }
   ],
   "source": [
    "ch.deposit(20) # found in Account"
   ]
  },
  {
   "cell_type": "code",
   "execution_count": 4,
   "metadata": {},
   "outputs": [
    {
     "data": {
      "text/plain": [
       "90"
      ]
     },
     "execution_count": 4,
     "metadata": {},
     "output_type": "execute_result"
    }
   ],
   "source": [
    "a = Account('John')\n",
    "b = CheckingAccount('Jack')\n",
    "a.deposit(100)\n",
    "b.deposit(100)\n",
    "a.withdraw(10)\n",
    "b.withdraw(10)\n",
    "a.balance"
   ]
  },
  {
   "cell_type": "code",
   "execution_count": 5,
   "metadata": {},
   "outputs": [
    {
     "data": {
      "text/plain": [
       "89"
      ]
     },
     "execution_count": 5,
     "metadata": {},
     "output_type": "execute_result"
    }
   ],
   "source": [
    "b.balance"
   ]
  },
  {
   "attachments": {},
   "cell_type": "markdown",
   "metadata": {},
   "source": [
    "### design for inheritance\n",
    "\n",
    "don't repeat\n",
    "\n",
    "overridden are still accessible via class objects\n",
    "\n",
    "look up attributes on instances whenever possible\n"
   ]
  },
  {
   "attachments": {},
   "cell_type": "markdown",
   "metadata": {},
   "source": [
    "### inheritance and composition\n",
    "\n",
    "OOP shines when we adopt the metaphor\n",
    "\n",
    "inheritance - is\n",
    "\n",
    "composition - has"
   ]
  },
  {
   "cell_type": "code",
   "execution_count": 6,
   "metadata": {},
   "outputs": [],
   "source": [
    "class Bank:\n",
    "    \"\"\"A bank *has* accounts.\"\"\"\n",
    "    def __init__(self):\n",
    "        self.accounts = []\n",
    "\n",
    "    def open_account(self, holder, amount, kind=Account):\n",
    "        account = kind(holder)\n",
    "        account.deposit(amount)\n",
    "        self.accounts.append(account)\n",
    "        return account\n",
    "    \n",
    "    def pay_interest(self):\n",
    "        for a in self.accounts:\n",
    "            a.deposit(a.balance * a.interest)\n",
    "\n",
    "    def too_big_to_fail(self):\n",
    "        return len(self.accounts) > 1"
   ]
  },
  {
   "cell_type": "code",
   "execution_count": 7,
   "metadata": {},
   "outputs": [],
   "source": [
    "class A:\n",
    "    z = -1\n",
    "    def f(self, x):\n",
    "        return B(x - 1)\n",
    "    \n",
    "class B(A):\n",
    "    n = 4\n",
    "    def __init__(self, y):\n",
    "        if y:\n",
    "            self.z = self.f(y)\n",
    "        else:\n",
    "            self.z = C(y + 1)\n",
    "\n",
    "class C(B):\n",
    "    def f(self, x):\n",
    "        return x\n",
    "    \n",
    "a = A()\n",
    "b = B(1)\n",
    "b.n = 5"
   ]
  },
  {
   "cell_type": "code",
   "execution_count": 8,
   "metadata": {},
   "outputs": [
    {
     "data": {
      "text/plain": [
       "4"
      ]
     },
     "execution_count": 8,
     "metadata": {},
     "output_type": "execute_result"
    }
   ],
   "source": [
    "C(2).n"
   ]
  },
  {
   "cell_type": "code",
   "execution_count": 9,
   "metadata": {},
   "outputs": [
    {
     "data": {
      "text/plain": [
       "True"
      ]
     },
     "execution_count": 9,
     "metadata": {},
     "output_type": "execute_result"
    }
   ],
   "source": [
    "a.z == C.z"
   ]
  },
  {
   "cell_type": "code",
   "execution_count": 10,
   "metadata": {},
   "outputs": [
    {
     "data": {
      "text/plain": [
       "False"
      ]
     },
     "execution_count": 10,
     "metadata": {},
     "output_type": "execute_result"
    }
   ],
   "source": [
    "a.z == b.z"
   ]
  },
  {
   "cell_type": "code",
   "execution_count": 11,
   "metadata": {},
   "outputs": [
    {
     "data": {
      "text/plain": [
       "<__main__.C at 0x231f8c0fd60>"
      ]
     },
     "execution_count": 11,
     "metadata": {},
     "output_type": "execute_result"
    }
   ],
   "source": [
    "b.z.z"
   ]
  },
  {
   "cell_type": "code",
   "execution_count": 12,
   "metadata": {},
   "outputs": [
    {
     "data": {
      "text/plain": [
       "1"
      ]
     },
     "execution_count": 12,
     "metadata": {},
     "output_type": "execute_result"
    }
   ],
   "source": [
    "b.z.z.z"
   ]
  },
  {
   "attachments": {},
   "cell_type": "markdown",
   "metadata": {},
   "source": [
    "## multiple inheritance\n",
    "\n"
   ]
  },
  {
   "cell_type": "code",
   "execution_count": null,
   "metadata": {},
   "outputs": [],
   "source": []
  }
 ],
 "metadata": {
  "kernelspec": {
   "display_name": "Python 3",
   "language": "python",
   "name": "python3"
  },
  "language_info": {
   "codemirror_mode": {
    "name": "ipython",
    "version": 3
   },
   "file_extension": ".py",
   "mimetype": "text/x-python",
   "name": "python",
   "nbconvert_exporter": "python",
   "pygments_lexer": "ipython3",
   "version": "3.9.12"
  },
  "orig_nbformat": 4,
  "vscode": {
   "interpreter": {
    "hash": "8f939dc046ae95b61db57b1ddfb635e5199eac9f7bf30422bfd106b8f44dc254"
   }
  }
 },
 "nbformat": 4,
 "nbformat_minor": 2
}
