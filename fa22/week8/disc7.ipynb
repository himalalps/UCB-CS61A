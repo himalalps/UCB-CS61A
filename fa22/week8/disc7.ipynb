{
 "cells": [
  {
   "attachments": {},
   "cell_type": "markdown",
   "metadata": {},
   "source": [
    "# Q1: student OOP"
   ]
  },
  {
   "cell_type": "code",
   "execution_count": 1,
   "metadata": {},
   "outputs": [],
   "source": [
    "class Student:\n",
    "\n",
    "    extension_days = 3 # this is a class variable\n",
    "\n",
    "    def __init__(self, name, staff):\n",
    "        self.name = name # this is an instance variable\n",
    "        self.understanding = 0\n",
    "        staff.add_student(self)\n",
    "        print(\"Added\", self.name)\n",
    "\n",
    "    def visit_office_hours(self, staff):\n",
    "        staff.assist(self)\n",
    "        print(\"Thanks, \" + staff.name)\n",
    "\n",
    "class Professor:\n",
    "\n",
    "    def __init__(self, name):\n",
    "        self.name = name\n",
    "        self.students = {}\n",
    "\n",
    "    def add_student(self, student):\n",
    "        self.students[student.name] = student\n",
    "\n",
    "    def assist(self, student):\n",
    "        student.understanding += 1\n",
    "\n",
    "    def grant_more_extension_days(self, student, days):\n",
    "        student.extension_days = days\n"
   ]
  },
  {
   "cell_type": "code",
   "execution_count": 2,
   "metadata": {},
   "outputs": [
    {
     "name": "stdout",
     "output_type": "stream",
     "text": [
      "Added Elle\n"
     ]
    }
   ],
   "source": [
    "callahan = Professor(\"Callahan\")\n",
    "elle = Student(\"Elle\", callahan)"
   ]
  },
  {
   "cell_type": "code",
   "execution_count": 3,
   "metadata": {},
   "outputs": [
    {
     "name": "stdout",
     "output_type": "stream",
     "text": [
      "Thanks, Callahan\n"
     ]
    }
   ],
   "source": [
    "elle.visit_office_hours(callahan)"
   ]
  },
  {
   "cell_type": "code",
   "execution_count": 4,
   "metadata": {},
   "outputs": [
    {
     "name": "stdout",
     "output_type": "stream",
     "text": [
      "Thanks, Paulette\n"
     ]
    }
   ],
   "source": [
    "elle.visit_office_hours(Professor(\"Paulette\"))"
   ]
  },
  {
   "cell_type": "code",
   "execution_count": 5,
   "metadata": {},
   "outputs": [
    {
     "data": {
      "text/plain": [
       "2"
      ]
     },
     "execution_count": 5,
     "metadata": {},
     "output_type": "execute_result"
    }
   ],
   "source": [
    "elle.understanding"
   ]
  },
  {
   "cell_type": "code",
   "execution_count": 6,
   "metadata": {},
   "outputs": [
    {
     "data": {
      "text/plain": [
       "['Elle']"
      ]
     },
     "execution_count": 6,
     "metadata": {},
     "output_type": "execute_result"
    }
   ],
   "source": [
    "[name for name in callahan.students]"
   ]
  },
  {
   "cell_type": "code",
   "execution_count": 7,
   "metadata": {},
   "outputs": [
    {
     "name": "stdout",
     "output_type": "stream",
     "text": [
      "Added Vivian\n"
     ]
    }
   ],
   "source": [
    "x = Student(\"Vivian\", Professor(\"Stromwell\")).name"
   ]
  },
  {
   "cell_type": "code",
   "execution_count": 8,
   "metadata": {},
   "outputs": [
    {
     "data": {
      "text/plain": [
       "'Vivian'"
      ]
     },
     "execution_count": 8,
     "metadata": {},
     "output_type": "execute_result"
    }
   ],
   "source": [
    "x"
   ]
  },
  {
   "cell_type": "code",
   "execution_count": 9,
   "metadata": {},
   "outputs": [
    {
     "data": {
      "text/plain": [
       "['Elle']"
      ]
     },
     "execution_count": 9,
     "metadata": {},
     "output_type": "execute_result"
    }
   ],
   "source": [
    "[name for name in callahan.students]"
   ]
  },
  {
   "cell_type": "code",
   "execution_count": 10,
   "metadata": {},
   "outputs": [
    {
     "data": {
      "text/plain": [
       "3"
      ]
     },
     "execution_count": 10,
     "metadata": {},
     "output_type": "execute_result"
    }
   ],
   "source": [
    "elle.extension_days"
   ]
  },
  {
   "cell_type": "code",
   "execution_count": 11,
   "metadata": {},
   "outputs": [
    {
     "data": {
      "text/plain": [
       "7"
      ]
     },
     "execution_count": 11,
     "metadata": {},
     "output_type": "execute_result"
    }
   ],
   "source": [
    "callahan.grant_more_extension_days(elle, 7)\n",
    "elle.extension_days"
   ]
  },
  {
   "cell_type": "code",
   "execution_count": 12,
   "metadata": {},
   "outputs": [
    {
     "data": {
      "text/plain": [
       "3"
      ]
     },
     "execution_count": 12,
     "metadata": {},
     "output_type": "execute_result"
    }
   ],
   "source": [
    "Student.extension_days"
   ]
  },
  {
   "attachments": {},
   "cell_type": "markdown",
   "metadata": {},
   "source": [
    "# Q2: email"
   ]
  },
  {
   "cell_type": "code",
   "execution_count": 13,
   "metadata": {},
   "outputs": [],
   "source": [
    "class Email:\n",
    "    \"\"\"Every email object has 3 instance attributes: the\n",
    "    message, the sender name, and the recipient name.\n",
    "    >>> email = Email('hello', 'Alice', 'Bob')\n",
    "    >>> email.msg\n",
    "    'hello'\n",
    "    >>> email.sender_name\n",
    "    'Alice'\n",
    "    >>> email.recipient_name\n",
    "    'Bob'\n",
    "    \"\"\"\n",
    "    def __init__(self, msg, sender_name, recipient_name):\n",
    "        self.msg = msg\n",
    "        self.sender_name = sender_name\n",
    "        self.recipient_name = recipient_name"
   ]
  },
  {
   "cell_type": "code",
   "execution_count": 15,
   "metadata": {},
   "outputs": [],
   "source": [
    "class Server:\n",
    "    \"\"\"Each Server has an instance attribute clients, which\n",
    "    is a dictionary that associates client names with\n",
    "    client objects.\n",
    "    \"\"\"\n",
    "    def __init__(self):\n",
    "        self.clients = {}\n",
    "\n",
    "    def send(self, email):\n",
    "        \"\"\"Take an email and put it in the inbox of the client\n",
    "        it is addressed to.\n",
    "        \"\"\"\n",
    "        for client_name, client in self.clients:\n",
    "            if client_name == email.recipient_name:\n",
    "                client.receive(email)\n",
    "\n",
    "\n",
    "    def register_client(self, client, client_name):\n",
    "        \"\"\"Takes a client object and client_name and adds them\n",
    "        to the clients instance attribute.\n",
    "        \"\"\"\n",
    "        self.clients[client_name] = client\n",
    "\n"
   ]
  },
  {
   "cell_type": "code",
   "execution_count": 16,
   "metadata": {},
   "outputs": [],
   "source": [
    "class Client:\n",
    "    \"\"\"Every Client has instance attributes name (which is\n",
    "    used for addressing emails to the client), server\n",
    "    (which is used to send emails out to other clients), and\n",
    "    inbox (a list of all emails the client has received).\n",
    "\n",
    "    >>> s = Server()\n",
    "    >>> a = Client(s, 'Alice')\n",
    "    >>> b = Client(s, 'Bob')\n",
    "    >>> a.compose('Hello, World!', 'Bob')\n",
    "    >>> b.inbox[0].msg\n",
    "    'Hello, World!'\n",
    "    >>> a.compose('CS 61A Rocks!', 'Bob')\n",
    "    >>> len(b.inbox)\n",
    "    2\n",
    "    >>> b.inbox[1].msg\n",
    "    'CS 61A Rocks!'\n",
    "    \"\"\"\n",
    "    def __init__(self, server, name):\n",
    "        self.inbox = []\n",
    "        self.name = name\n",
    "        self.server = server\n",
    "\n",
    "    def compose(self, msg, recipient_name):\n",
    "        \"\"\"Send an email with the given message msg to the\n",
    "        given recipient client.\n",
    "        \"\"\"\n",
    "        self.server.send(Email(msg, self.name, recipient_name))\n",
    "\n",
    "    def receive(self, email):\n",
    "        \"\"\"Take an email and add it to the inbox of this\n",
    "        client.\n",
    "        \"\"\"\n",
    "        self.inbox.append(email)\n",
    "\n"
   ]
  },
  {
   "attachments": {},
   "cell_type": "markdown",
   "metadata": {},
   "source": [
    "# Q3: cat"
   ]
  },
  {
   "cell_type": "code",
   "execution_count": null,
   "metadata": {},
   "outputs": [],
   "source": [
    "class Cat(Pet):\n",
    "\n",
    "    def __init__(self, name, owner, lives=9):\n",
    "        super().__init__(self, name, owner)\n",
    "        self.life = lives\n",
    "\n",
    "    def talk(self):\n",
    "        \"\"\"Print out a cat's greeting.\n",
    "\n",
    "        >>> Cat('Thomas', 'Tammy').talk()\n",
    "        Thomas says meow!\n",
    "        \"\"\"\n",
    "        print(self.name, 'says meow!')\n",
    "\n",
    "    def lose_life(self):\n",
    "        \"\"\"Decrements a cat's life by 1. When lives reaches zero,\n",
    "        is_alive becomes False. If this is called after lives has\n",
    "        reached zero, print 'This cat has no more lives to lose.'\n",
    "        \"\"\"\n",
    "        if self.life:\n",
    "            self.life -= 1\n",
    "            if self.life == 0:\n",
    "                self.is_alive = False\n",
    "        else:\n",
    "            print('This cat has no more lives to lose')"
   ]
  },
  {
   "attachments": {},
   "cell_type": "markdown",
   "metadata": {},
   "source": [
    "# Q4: noisy cat"
   ]
  },
  {
   "cell_type": "code",
   "execution_count": null,
   "metadata": {},
   "outputs": [],
   "source": [
    "class noisy_cat(Cat)\n",
    "    \"\"\"A Cat that repeats things twice.\"\"\"\n",
    "\n",
    "\n",
    "    def talk(self):\n",
    "        \"\"\"Talks twice as much as a regular cat.\n",
    "        >>> NoisyCat('Magic', 'James').talk()\n",
    "        Magic says meow!\n",
    "        Magic says meow!\n",
    "        \"\"\"\n",
    "        Cat.talk(self)\n",
    "        Cat.talk(self)"
   ]
  },
  {
   "attachments": {},
   "cell_type": "markdown",
   "metadata": {},
   "source": [
    "# Q5: own a cat"
   ]
  },
  {
   "cell_type": "code",
   "execution_count": 17,
   "metadata": {},
   "outputs": [],
   "source": [
    "class Cat:\n",
    "    def __init__(self, name, owner, lives=9):\n",
    "        self.is_alive = True\n",
    "        self.name = name\n",
    "        self.owner = owner\n",
    "        self.lives = lives\n",
    "\n",
    "    def talk(self):\n",
    "        return self.name + ' says meow!'\n",
    "\n",
    "    @classmethod\n",
    "    def cat_creator(cls, owner):\n",
    "        \"\"\"\n",
    "        Returns a new instance of a Cat.\n",
    "\n",
    "        This instance's name is \"[owner]'s Cat\", with \n",
    "        [owner] being the name of its owner.\n",
    "\n",
    "        >>> cat1 = Cat.cat_creator(\"Bryce\")\n",
    "        >>> isinstance(cat1, Cat)\n",
    "        True\n",
    "        >>> cat1.owner\n",
    "        'Bryce'\n",
    "        >>> cat1.name\n",
    "        \"Bryce's Cat\"\n",
    "        >>> cat2 = Cat.cat_creator(\"Tyler\")\n",
    "        >>> cat2.owner\n",
    "        'Tyler'\n",
    "        >>> cat2.name\n",
    "        \"Tyler's Cat\"\n",
    "        \"\"\"\n",
    "        name = f\"{owner}'s Cat\"\n",
    "        return cls(name, owner)\n",
    "\n"
   ]
  },
  {
   "attachments": {},
   "cell_type": "markdown",
   "metadata": {},
   "source": [
    "# Q6: repr-esentation"
   ]
  },
  {
   "cell_type": "code",
   "execution_count": 18,
   "metadata": {},
   "outputs": [],
   "source": [
    "class A:\n",
    "    def __init__(self, x):\n",
    "        self.x = x\n",
    "\n",
    "    def __repr__(self):\n",
    "         return self.x\n",
    "\n",
    "    def __str__(self):\n",
    "         return self.x * 2\n",
    "\n",
    "class B:\n",
    "    def __init__(self):\n",
    "         print('boo!')\n",
    "         self.a = []\n",
    "\n",
    "    def add_a(self, a):\n",
    "         self.a.append(a)\n",
    "\n",
    "    def __repr__(self):\n",
    "         print(len(self.a))\n",
    "         ret = ''\n",
    "         for a in self.a:\n",
    "             ret += str(a)\n",
    "         return ret"
   ]
  },
  {
   "cell_type": "code",
   "execution_count": 19,
   "metadata": {},
   "outputs": [
    {
     "data": {
      "text/plain": [
       "one"
      ]
     },
     "execution_count": 19,
     "metadata": {},
     "output_type": "execute_result"
    }
   ],
   "source": [
    "A('one')"
   ]
  },
  {
   "cell_type": "code",
   "execution_count": 20,
   "metadata": {},
   "outputs": [
    {
     "name": "stdout",
     "output_type": "stream",
     "text": [
      "oneone\n"
     ]
    }
   ],
   "source": [
    "print(A('one'))"
   ]
  },
  {
   "cell_type": "code",
   "execution_count": 21,
   "metadata": {},
   "outputs": [
    {
     "data": {
      "text/plain": [
       "'two'"
      ]
     },
     "execution_count": 21,
     "metadata": {},
     "output_type": "execute_result"
    }
   ],
   "source": [
    "repr(A('two'))"
   ]
  },
  {
   "cell_type": "code",
   "execution_count": 22,
   "metadata": {},
   "outputs": [
    {
     "name": "stdout",
     "output_type": "stream",
     "text": [
      "boo!\n"
     ]
    }
   ],
   "source": [
    "b = B()"
   ]
  },
  {
   "cell_type": "code",
   "execution_count": 23,
   "metadata": {},
   "outputs": [
    {
     "name": "stdout",
     "output_type": "stream",
     "text": [
      "2\n"
     ]
    },
    {
     "data": {
      "text/plain": [
       "aabb"
      ]
     },
     "execution_count": 23,
     "metadata": {},
     "output_type": "execute_result"
    }
   ],
   "source": [
    "b.add_a(A('a'))\n",
    "b.add_a(A('b'))\n",
    "b"
   ]
  },
  {
   "cell_type": "code",
   "execution_count": null,
   "metadata": {},
   "outputs": [],
   "source": []
  }
 ],
 "metadata": {
  "kernelspec": {
   "display_name": "Python 3",
   "language": "python",
   "name": "python3"
  },
  "language_info": {
   "codemirror_mode": {
    "name": "ipython",
    "version": 3
   },
   "file_extension": ".py",
   "mimetype": "text/x-python",
   "name": "python",
   "nbconvert_exporter": "python",
   "pygments_lexer": "ipython3",
   "version": "3.9.12"
  },
  "orig_nbformat": 4,
  "vscode": {
   "interpreter": {
    "hash": "8f939dc046ae95b61db57b1ddfb635e5199eac9f7bf30422bfd106b8f44dc254"
   }
  }
 },
 "nbformat": 4,
 "nbformat_minor": 2
}
