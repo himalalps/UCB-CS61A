{
 "cells": [
  {
   "attachments": {},
   "cell_type": "markdown",
   "metadata": {},
   "source": [
    "# linked lists\n",
    "\n",
    "either empty or a first value and the rest of the linked list"
   ]
  },
  {
   "cell_type": "code",
   "execution_count": 1,
   "metadata": {},
   "outputs": [],
   "source": [
    "class Link:\n",
    "    empty = ()\n",
    "\n",
    "    def __init__(self, first, rest=empty):\n",
    "        assert rest is Link.empty or isinstance(rest, Link)\n",
    "        self.first = first\n",
    "        self.rest = rest\n",
    "        "
   ]
  },
  {
   "cell_type": "code",
   "execution_count": 2,
   "metadata": {},
   "outputs": [
    {
     "data": {
      "text/plain": [
       "<__main__.Link at 0x22614432ac0>"
      ]
     },
     "execution_count": 2,
     "metadata": {},
     "output_type": "execute_result"
    }
   ],
   "source": [
    "Link(3, Link(4, Link(5)))"
   ]
  },
  {
   "cell_type": "code",
   "execution_count": 3,
   "metadata": {},
   "outputs": [
    {
     "data": {
      "text/plain": [
       "3"
      ]
     },
     "execution_count": 3,
     "metadata": {},
     "output_type": "execute_result"
    }
   ],
   "source": [
    "s = Link(3, Link(4, Link(5)))\n",
    "s.first"
   ]
  },
  {
   "cell_type": "code",
   "execution_count": 4,
   "metadata": {},
   "outputs": [
    {
     "data": {
      "text/plain": [
       "<__main__.Link at 0x22614432070>"
      ]
     },
     "execution_count": 4,
     "metadata": {},
     "output_type": "execute_result"
    }
   ],
   "source": [
    "s.rest"
   ]
  },
  {
   "cell_type": "code",
   "execution_count": 5,
   "metadata": {},
   "outputs": [
    {
     "data": {
      "text/plain": [
       "<__main__.Link at 0x22614432730>"
      ]
     },
     "execution_count": 5,
     "metadata": {},
     "output_type": "execute_result"
    }
   ],
   "source": [
    "s.rest.rest"
   ]
  },
  {
   "cell_type": "code",
   "execution_count": 6,
   "metadata": {},
   "outputs": [
    {
     "data": {
      "text/plain": [
       "4"
      ]
     },
     "execution_count": 6,
     "metadata": {},
     "output_type": "execute_result"
    }
   ],
   "source": [
    "s.rest.first"
   ]
  },
  {
   "attachments": {},
   "cell_type": "markdown",
   "metadata": {},
   "source": [
    "## linked list processing"
   ]
  },
  {
   "cell_type": "code",
   "execution_count": 7,
   "metadata": {},
   "outputs": [],
   "source": [
    "def range_link(start, end):\n",
    "    \"\"\"Return a Link containing consecutive integers from start to end.\"\"\"\n",
    "    if start >= end:\n",
    "        return Link.empty\n",
    "    else:\n",
    "        return Link(start, range_link(start + 1, end))\n",
    "    \n",
    "def map_link(f, s):\n",
    "    \"\"\"Return a Link that contains f(x) for each x in Link s.\"\"\"\n",
    "    if s is Link.empty:\n",
    "        return s\n",
    "    else:\n",
    "        return Link(f(s.first), map_link(f, s.rest))\n",
    "    \n",
    "def filter_link(f, s):\n",
    "    \"\"\"Return a Link that contains only the elements x of Link s \n",
    "    for which f(x) is a True value\"\"\"\n",
    "    if s is Link.empty:\n",
    "        return s\n",
    "    else:\n",
    "        filtered_rest = filter_link(f, s.rest)\n",
    "        if f(s.first):\n",
    "            return Link(s.first, filtered_rest)\n",
    "        else:\n",
    "            return filtered_rest"
   ]
  },
  {
   "attachments": {},
   "cell_type": "markdown",
   "metadata": {},
   "source": [
    "## linked list mutation\n",
    "\n",
    "attr assignment statements can change first and rest attr of a Link\n",
    "\n",
    "the rest of a linked list can contain the linked list as a sub-list"
   ]
  },
  {
   "cell_type": "code",
   "execution_count": 8,
   "metadata": {},
   "outputs": [],
   "source": [
    "def add(s, v):\n",
    "    \"\"\"Add v to an ordered list s with no repeats, returning modified s.\"\"\"\n",
    "    if v < s[0]:\n",
    "        s.insert(0, v)\n",
    "        return s\n",
    "    dif = s[0] - v\n",
    "    for i in range(len(s)):\n",
    "        if s[i] == v:\n",
    "            return s\n",
    "        if dif * (s[i] - v) < 0:\n",
    "            s.insert(i, v)\n",
    "            return s\n",
    "    s.insert(len(s), v)\n",
    "    return s"
   ]
  },
  {
   "cell_type": "code",
   "execution_count": 9,
   "metadata": {},
   "outputs": [],
   "source": [
    "def add(s, v):\n",
    "    assert s is not Link.empty\n",
    "    if s.first > v:\n",
    "        s.first, s.rest = v, Link(s.first, s.rest)\n",
    "    elif s.first < v and s.rest is Link.empty:\n",
    "        s.rest = Link(v)\n",
    "    elif s.first < v:\n",
    "        s.rest = add(s.rest, v)\n",
    "    return s"
   ]
  },
  {
   "attachments": {},
   "cell_type": "markdown",
   "metadata": {},
   "source": [
    "# tree"
   ]
  },
  {
   "cell_type": "code",
   "execution_count": 14,
   "metadata": {},
   "outputs": [],
   "source": [
    "class Tree:\n",
    "    def __init__(self, label, branches=[]):\n",
    "        self.label = label\n",
    "        for branch in branches:\n",
    "            assert isinstance(branch, Tree)\n",
    "        self.branches = list(branches)\n",
    "    \n",
    "    def __repr__(self):\n",
    "        if self.branches:\n",
    "            branch_str = ', ' + repr(self.branches)\n",
    "        else:\n",
    "            branch_str = ''\n",
    "        return 'Tree({0}{1})'.format(repr(self.label), branch_str)\n",
    "    \n",
    "    def __str__(self):\n",
    "        return '\\n'.join(self.indented())\n",
    "    \n",
    "    def indented(self):\n",
    "        lines = []\n",
    "        for b in self.branches:\n",
    "            for line in b.indented():\n",
    "                lines.append('   ' + line)\n",
    "        return [str(self.label)] + lines\n",
    "    \n",
    "    def is_leaf(self):\n",
    "        return not self.branches"
   ]
  },
  {
   "cell_type": "code",
   "execution_count": 15,
   "metadata": {},
   "outputs": [
    {
     "data": {
      "text/plain": [
       "Tree(1)"
      ]
     },
     "execution_count": 15,
     "metadata": {},
     "output_type": "execute_result"
    }
   ],
   "source": [
    "Tree(1)"
   ]
  },
  {
   "cell_type": "code",
   "execution_count": 16,
   "metadata": {},
   "outputs": [
    {
     "data": {
      "text/plain": [
       "Tree(1, [Tree(3), Tree(4)])"
      ]
     },
     "execution_count": 16,
     "metadata": {},
     "output_type": "execute_result"
    }
   ],
   "source": [
    "Tree(1, [Tree(3), Tree(4)])"
   ]
  },
  {
   "cell_type": "code",
   "execution_count": 17,
   "metadata": {},
   "outputs": [
    {
     "name": "stdout",
     "output_type": "stream",
     "text": [
      "1\n",
      "   3\n",
      "   4\n"
     ]
    }
   ],
   "source": [
    "t = Tree(1, [Tree(3), Tree(4)])\n",
    "print(t)"
   ]
  },
  {
   "cell_type": "code",
   "execution_count": 18,
   "metadata": {},
   "outputs": [],
   "source": [
    "def leaves(t):\n",
    "    if t.is_leaf():\n",
    "        return [t.label]\n",
    "    else:\n",
    "        all_leaves = []\n",
    "        for b in t.branches:\n",
    "            all_leaves.extend(leaves(b))\n",
    "        return all_leaves"
   ]
  },
  {
   "cell_type": "code",
   "execution_count": 19,
   "metadata": {},
   "outputs": [],
   "source": [
    "def prune(t, n):\n",
    "    \"\"\"Prune all sub_trees whose label is n.\"\"\"\n",
    "    t.branches = [b for b in t.branches if b.label != n]\n",
    "    for b in t.branches:\n",
    "        prune(b, n)"
   ]
  },
  {
   "cell_type": "code",
   "execution_count": null,
   "metadata": {},
   "outputs": [],
   "source": []
  }
 ],
 "metadata": {
  "kernelspec": {
   "display_name": "Python 3",
   "language": "python",
   "name": "python3"
  },
  "language_info": {
   "codemirror_mode": {
    "name": "ipython",
    "version": 3
   },
   "file_extension": ".py",
   "mimetype": "text/x-python",
   "name": "python",
   "nbconvert_exporter": "python",
   "pygments_lexer": "ipython3",
   "version": "3.9.12"
  },
  "orig_nbformat": 4,
  "vscode": {
   "interpreter": {
    "hash": "8f939dc046ae95b61db57b1ddfb635e5199eac9f7bf30422bfd106b8f44dc254"
   }
  }
 },
 "nbformat": 4,
 "nbformat_minor": 2
}
