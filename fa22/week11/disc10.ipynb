{
 "cells": [
  {
   "attachments": {},
   "cell_type": "markdown",
   "metadata": {},
   "source": [
    "# primitives and defining variables\n",
    "\n",
    "```scheme\n",
    "scm> (define a 1)\n",
    "a\n",
    "scm> a\n",
    "1\n",
    "scm> (define b a)\n",
    "b\n",
    "scm> b\n",
    "1\n",
    "scm> (define c 'a)\n",
    "c\n",
    "scm> c\n",
    "a\n",
    "```"
   ]
  },
  {
   "attachments": {},
   "cell_type": "markdown",
   "metadata": {},
   "source": [
    "# call expressions\n",
    "\n",
    "```scheme\n",
    "scm> (define a (+ 1 2))\n",
    "a\n",
    "scm> a\n",
    "3\n",
    "scm> (define b (- (+ (* 3 3) 2) 1))\n",
    "b\n",
    "scm> (+ a b)\n",
    "13\n",
    "scm> (= (modulo b a) (quotient 5 3))\n",
    "#t\n",
    "```"
   ]
  },
  {
   "attachments": {},
   "cell_type": "markdown",
   "metadata": {},
   "source": [
    "# special forms\n",
    "\n",
    "```scheme\n",
    "scm> (and (and 14 0.0) (or (or (not 0) (define a 2) (/ 1 0)) 8))\n",
    "a\n",
    "scm> (if (or #t (/ 1 0)) 1 (/ 1 0))\n",
    "1\n",
    "scm> ((if (< 4 3) + -) 4 100)\n",
    "-96\n",
    "scm> (cond\n",
    "...>     ((and (- 4 4) (not #t)) 1)\n",
    "...>     (and (or (< 9 (/ 100 10)) (/ 1 0)) #t) -1)\n",
    "Traceback (most recent call last):\n",
    " 0\t(cond ((and (- 4 4) (not #t)) 1) (and (or (< 9 (/ 100 10)) (/ 1 0)) #t) -1)\n",
    " 1\tand\n",
    "Error: unknown identifier: and\n",
    "scm> (cond\n",
    "...>     ((and (- 4 4) (not #t)) 1)\n",
    "...>     ((and (or (< 9 (/ 100 10)) (/ 1 0)) #t) -1)\n",
    "...>     (else (/ 1 0))\n",
    "...> )\n",
    "-1\n",
    "```"
   ]
  },
  {
   "attachments": {},
   "cell_type": "markdown",
   "metadata": {},
   "source": [
    "# Q1: virahanka-fibonacci\n",
    "\n",
    "```scheme\n",
    "(define (vir-fib n)\n",
    "    (if (< n 2) n\n",
    "        (+ (vir-fib (- n 2)) (vir-fib (- n 1))))\n",
    ")\n",
    "\n",
    "(expect (vir-fib 10) 55)\n",
    "(expect (vir-fib 1) 1)\n",
    "```"
   ]
  },
  {
   "attachments": {},
   "cell_type": "markdown",
   "metadata": {},
   "source": [
    "# Q2: list making\n",
    "\n",
    "```scheme\n",
    "(define with-list\n",
    "    (list\n",
    "        (list 'a 'b)\n",
    "        'c 'd\n",
    "        (list 'e)\n",
    "    )\n",
    ")\n",
    "\n",
    "(define with-quote\n",
    "    '(\n",
    "        (a b)\n",
    "        c d\n",
    "        (e)\n",
    "    )\n",
    "\n",
    ")\n",
    "\n",
    "(define helpful-list\n",
    "   (cons 'a (cons 'b nil)))\n",
    "(define another-helpful-list\n",
    "    (cons 'c (cons 'd (cons (cons 'e nil) nil))))\n",
    "(define with-cons\n",
    "    (cons\n",
    "        helpful-list another-helpful-list\n",
    "    )\n",
    ")\n",
    "```"
   ]
  },
  {
   "attachments": {},
   "cell_type": "markdown",
   "metadata": {},
   "source": [
    "# Q3: list concatenation\n",
    "\n",
    "```scheme\n",
    "(define (list-concat a b)\n",
    "    (if (null? a) b\n",
    "            (cons (car a) (list-concat (cdr a) b)))\n",
    ")\n",
    "```"
   ]
  },
  {
   "attachments": {},
   "cell_type": "markdown",
   "metadata": {},
   "source": [
    "# Q4: map\n",
    "\n",
    "```scheme\n",
    "(define (map-fn fn lst)\n",
    "    (if (null? lst) nil\n",
    "        (cons (fn (car lst)) (map-fn fn (cdr lst))))\n",
    ")\n",
    "```"
   ]
  },
  {
   "attachments": {},
   "cell_type": "markdown",
   "metadata": {},
   "source": [
    "# Q5: remove\n",
    "\n",
    "```scheme\n",
    "(define (remove item lst)\n",
    "    (filter (lambda (x) (not (= x item))) lst)\n",
    ")\n",
    "```"
   ]
  }
 ],
 "metadata": {
  "kernelspec": {
   "display_name": "Python 3",
   "language": "python",
   "name": "python3"
  },
  "language_info": {
   "name": "python",
   "version": "3.9.12 (tags/v3.9.12:b28265d, Mar 23 2022, 23:52:46) [MSC v.1929 64 bit (AMD64)]"
  },
  "orig_nbformat": 4,
  "vscode": {
   "interpreter": {
    "hash": "8f939dc046ae95b61db57b1ddfb635e5199eac9f7bf30422bfd106b8f44dc254"
   }
  }
 },
 "nbformat": 4,
 "nbformat_minor": 2
}
