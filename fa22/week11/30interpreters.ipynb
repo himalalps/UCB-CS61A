{
 "cells": [
  {
   "attachments": {},
   "cell_type": "markdown",
   "metadata": {},
   "source": [
    "this lecture is about the structure of the project 4 scheme interpreter"
   ]
  },
  {
   "attachments": {},
   "cell_type": "markdown",
   "metadata": {},
   "source": [
    "# eval\n",
    "\n",
    "- base: primitive + look up values bound to symbols\n",
    "- recursive: eval of call expressions + apply + eval special forms\n",
    "\n",
    "# apply\n",
    "\n",
    "- base: built-in procedures\n",
    "- recursive: eval of user-defined procedures"
   ]
  },
  {
   "attachments": {},
   "cell_type": "markdown",
   "metadata": {},
   "source": [
    "# special forms\n",
    "\n",
    "# logical forms"
   ]
  }
 ],
 "metadata": {
  "language_info": {
   "name": "python"
  },
  "orig_nbformat": 4
 },
 "nbformat": 4,
 "nbformat_minor": 2
}
