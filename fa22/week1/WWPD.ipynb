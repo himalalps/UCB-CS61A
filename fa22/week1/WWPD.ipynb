{
 "cells": [
  {
   "attachments": {},
   "cell_type": "markdown",
   "metadata": {},
   "source": [
    "Q1: Multiples"
   ]
  },
  {
   "cell_type": "code",
   "execution_count": 1,
   "metadata": {},
   "outputs": [
    {
     "name": "stdout",
     "output_type": "stream",
     "text": [
      "36\n",
      "None 8\n"
     ]
    }
   ],
   "source": [
    "def square(x):\n",
    "    return print(x * x)     # return None\n",
    "\n",
    "\n",
    "def multiply(x):\n",
    "    x_new = x * 2\n",
    "    return x * 3\n",
    "\n",
    "\n",
    "print(square(multiply(2)), 8)   # print(None, 8)\n"
   ]
  },
  {
   "attachments": {},
   "cell_type": "markdown",
   "metadata": {},
   "source": [
    "Q2: Quizzical"
   ]
  },
  {
   "cell_type": "code",
   "execution_count": 2,
   "metadata": {},
   "outputs": [
    {
     "name": "stdout",
     "output_type": "stream",
     "text": [
      "-30\n",
      "110\n",
      "Good job!\n",
      "None\n"
     ]
    }
   ],
   "source": [
    "x = 2\n",
    "\n",
    "\n",
    "def take_quiz(x):\n",
    "    print(x * 10)\n",
    "    if x * 10 >= 100:\n",
    "        return 'Good job!'\n",
    "    return 'Go to office hours!'\n",
    "\n",
    "\n",
    "def office_hour(x):\n",
    "    while x < 10:\n",
    "        x = x + 3\n",
    "    return print(take_quiz(x))\n",
    "\n",
    "\n",
    "take_quiz(-3) and print(office_hour(x))\n"
   ]
  },
  {
   "attachments": {},
   "cell_type": "markdown",
   "metadata": {},
   "source": [
    "Q3: There can only be Wan"
   ]
  },
  {
   "attachments": {},
   "cell_type": "markdown",
   "metadata": {},
   "source": [
    "Q4: Whoos hat?"
   ]
  },
  {
   "cell_type": "code",
   "execution_count": 3,
   "metadata": {},
   "outputs": [
    {
     "name": "stdout",
     "output_type": "stream",
     "text": [
      "<function hat at 0x0000012512010EE0>\n",
      "his\n",
      "None hat\n"
     ]
    }
   ],
   "source": [
    "s = 2\n",
    "\n",
    "\n",
    "def hat(s):\n",
    "    while s > 0:\n",
    "        whoos(s)\n",
    "        s = s - 1\n",
    "    return whoos(s)\n",
    "\n",
    "\n",
    "def someones(their, hat):\n",
    "    his, her = their, hat\n",
    "    hat = print(his or her) and her or his\n",
    "    if hat:\n",
    "        return 'hat'\n",
    "\n",
    "\n",
    "def whoos(hat):\n",
    "    return print(hat)\n",
    "\n",
    "\n",
    "cat = 'his'\n",
    "print(whoos(hat), someones(cat, hat))\n"
   ]
  }
 ],
 "metadata": {
  "kernelspec": {
   "display_name": "Python 3",
   "language": "python",
   "name": "python3"
  },
  "language_info": {
   "codemirror_mode": {
    "name": "ipython",
    "version": 3
   },
   "file_extension": ".py",
   "mimetype": "text/x-python",
   "name": "python",
   "nbconvert_exporter": "python",
   "pygments_lexer": "ipython3",
   "version": "3.9.12"
  },
  "orig_nbformat": 4,
  "vscode": {
   "interpreter": {
    "hash": "8f939dc046ae95b61db57b1ddfb635e5199eac9f7bf30422bfd106b8f44dc254"
   }
  }
 },
 "nbformat": 4,
 "nbformat_minor": 2
}
