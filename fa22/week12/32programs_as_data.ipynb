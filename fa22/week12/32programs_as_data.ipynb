{
 "cells": [
  {
   "attachments": {},
   "cell_type": "markdown",
   "metadata": {},
   "source": [
    "# program as data\n",
    "\n",
    "```scheme\n",
    "scm> (list 'quotient 10 2)\n",
    "(quotient 10 2)\n",
    "\n",
    "scm> (eval (list 'quotient 10 2))\n",
    "5\n",
    "```\n",
    "\n",
    "in such a language it is straightforward to write a program that writes a program\n",
    "\n",
    "```scheme\n",
    "scm> (list '+ 1 2)\n",
    "(+ 1 2)\n",
    "scm> (list '+ 1 (+ 2 3))\n",
    "(+ 1 5)\n",
    "```\n",
    "\n",
    "```scheme\n",
    "(define (fact n)\n",
    "    (if (= n 0) 1 (* n (fact (-  1)))))\n",
    "\n",
    "(define (fact-exp n)\n",
    "    (if (= n 0) 1 (list '* n (fact-exp (- n 1)))))\n",
    "\n",
    "(define (fib n)\n",
    "    (if (<= n 1) n (+ (fib (- n 2)) (fib (- n 1)))))\n",
    "\n",
    "(define (fib-exp n)\n",
    "    (if (<= n 1) n (list '+ (fib-exp (- n 2)) (fib-exp (- n 1)))))\n",
    "```"
   ]
  },
  {
   "attachments": {},
   "cell_type": "markdown",
   "metadata": {},
   "source": [
    "# generate code\n",
    "\n",
    "## quasiquotation\n",
    "\n",
    "two ways to quote an expression\n",
    "- quote: `'(a b) => (a b)`\n",
    "- quasiquote: `` `(a b) => (a b)``\n",
    "\n",
    "their difference is a quasiquoted expression canbe unquoted with `,`\n",
    "\n",
    "`(define b 4)`\n",
    "- quote: `'(a ,(+ b 1)) => (a (unquote (+ b 1))`\n",
    "- quasiquote: `` `(a ,(+ b 1)) => (a 5)``"
   ]
  },
  {
   "attachments": {},
   "cell_type": "markdown",
   "metadata": {},
   "source": [
    "```scheme\n",
    "(define (sum-while initial-x condition add-to-total update-x)\n",
    "    `(begin\n",
    "        (define (f x total)\n",
    "            (if ,condition\n",
    "                (f ,update-x (+ total ,add-to-total))\n",
    "                total))\n",
    "        (f ,initial-x 0)))\n",
    "```"
   ]
  },
  {
   "cell_type": "markdown",
   "metadata": {},
   "source": []
  }
 ],
 "metadata": {
  "kernelspec": {
   "display_name": "Python 3",
   "language": "python",
   "name": "python3"
  },
  "language_info": {
   "name": "python",
   "version": "3.9.12 (tags/v3.9.12:b28265d, Mar 23 2022, 23:52:46) [MSC v.1929 64 bit (AMD64)]"
  },
  "orig_nbformat": 4,
  "vscode": {
   "interpreter": {
    "hash": "8f939dc046ae95b61db57b1ddfb635e5199eac9f7bf30422bfd106b8f44dc254"
   }
  }
 },
 "nbformat": 4,
 "nbformat_minor": 2
}
