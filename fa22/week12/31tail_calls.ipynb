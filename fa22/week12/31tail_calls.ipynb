{
 "cells": [
  {
   "attachments": {},
   "cell_type": "markdown",
   "metadata": {},
   "source": [
    "# dynamic scope\n",
    "\n",
    "lexical/static scope - parent is the environment in which defined\n",
    "\n",
    "dynamic scope - parent is the environment in which called"
   ]
  },
  {
   "attachments": {},
   "cell_type": "markdown",
   "metadata": {},
   "source": [
    "# tail recursion\n",
    "\n",
    "function programming - all functions are pure functions without re-assignment and mutable data types; the value of an expression does not change whensubstitute one of its subexpression with the value of that subexpression. to iterate needs tail recursion"
   ]
  },
  {
   "attachments": {},
   "cell_type": "markdown",
   "metadata": {},
   "source": [
    "in python recursive calls always create new active frames"
   ]
  },
  {
   "attachments": {},
   "cell_type": "markdown",
   "metadata": {},
   "source": [
    "to reduce the space in tail recursion, eliminate the middleman"
   ]
  },
  {
   "attachments": {},
   "cell_type": "markdown",
   "metadata": {},
   "source": [
    "# tail calls\n",
    "\n",
    "not yet returned call is *active* call\n",
    "\n",
    "scheme interpreter should support an *unbounded number* of active calls using only a *constant* amount of space\n",
    "\n",
    "tail call is a call expression in a tail context\n",
    "- the last body sub-expression in a lambda expression\n",
    "- sub-expression 2 & 3 in a tail context `if` expression\n",
    "- all non-predicate sub-expressions in a tail context `cond`\n",
    "- the last sub-expression in a tail context `and` or `or`\n",
    "- the last sub-expression in a tail context `begin`"
   ]
  },
  {
   "attachments": {},
   "cell_type": "markdown",
   "metadata": {},
   "source": [
    "**note**\n",
    "- a call expression is not a tail call if more computation is still required in the calling procedure\n",
    "- linear recursive procedures can often be re-written to use tail calls\n",
    "\n",
    "```scheme\n",
    "(define (length s)\n",
    "    (if (null? s) 0\n",
    "        (+ 1 (length (cdr s)))))    ; this is not a tail call since \n",
    "                                    ; the call is not in a tail context\n",
    "(define (length-tail s)\n",
    "    (define (length-iter s n)\n",
    "        (if (null? s) n\n",
    "            (length-iter (cdr s) (+ 1 n)))) ; this is a tail call\n",
    "    (length-iter s 0))\n",
    "```"
   ]
  },
  {
   "attachments": {},
   "cell_type": "markdown",
   "metadata": {},
   "source": [
    "## eval with tail call optimization\n",
    "\n"
   ]
  },
  {
   "attachments": {},
   "cell_type": "markdown",
   "metadata": {},
   "source": [
    "## interpreters are general computing machine"
   ]
  }
 ],
 "metadata": {
  "kernelspec": {
   "display_name": "Python 3",
   "language": "python",
   "name": "python3"
  },
  "language_info": {
   "name": "python",
   "version": "3.9.12 (tags/v3.9.12:b28265d, Mar 23 2022, 23:52:46) [MSC v.1929 64 bit (AMD64)]"
  },
  "orig_nbformat": 4,
  "vscode": {
   "interpreter": {
    "hash": "8f939dc046ae95b61db57b1ddfb635e5199eac9f7bf30422bfd106b8f44dc254"
   }
  }
 },
 "nbformat": 4,
 "nbformat_minor": 2
}
