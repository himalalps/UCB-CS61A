{
 "cells": [
  {
   "attachments": {},
   "cell_type": "markdown",
   "metadata": {},
   "source": [
    "# Q1: if program python"
   ]
  },
  {
   "cell_type": "code",
   "execution_count": 1,
   "metadata": {},
   "outputs": [],
   "source": [
    "def if_program(condition, true_result, false_result):\n",
    "    \"\"\"\n",
    "    >>> eval(if_program(\"True\", \"3\", \"4\"))\n",
    "    3\n",
    "    >>> eval(if_program(\"0\", \"'if true'\", \"'if false'\"))\n",
    "    'if false'\n",
    "    >>> eval(if_program(\"1\", \"print('true')\", \"print('false')\"))\n",
    "    true\n",
    "    >>> eval(if_program(\"print('condition')\", \"print('true_result')\", \"print('false_result')\"))\n",
    "    condition\n",
    "    false_result\n",
    "    \"\"\"\n",
    "    return true_result if eval(condition) else false_result"
   ]
  },
  {
   "attachments": {},
   "cell_type": "markdown",
   "metadata": {},
   "source": [
    "# Q2: writing quasiquote expressions\n",
    "\n",
    "```scheme\n",
    "scm> (define a +)\n",
    "a\n",
    "scm> (define b 1)\n",
    "b\n",
    "scm> (define c 2)\n",
    "c\n",
    "scm> `(a b c)\n",
    "(a b c)\n",
    "scm> `(a ,b c)\n",
    "(a 1 c)\n",
    "scm> (a b c)\n",
    "3\n",
    "scm> `(a (b ,b) c)\n",
    "(a (b 1) c)\n",
    "scm> `(a ,(a b c) c)\n",
    "(a 3 c)\n",
    "```"
   ]
  },
  {
   "attachments": {},
   "cell_type": "markdown",
   "metadata": {},
   "source": [
    "```scheme\n",
    "scm> (define condition '(= 1 1))\n",
    "condition\n",
    "scm> (define if-true '(print 3)\n",
    "...> )\n",
    "if-true\n",
    "scm> (define if-false '(print 5))\n",
    "if-false\n",
    "scm> (cons 'if condition)\n",
    "(if = 1 1)\n",
    "scm> (cons 'if\n",
    "...>     (cons condition\n",
    "...>         (cons if-true\n",
    "...>             (cons if-false nil))))\n",
    "(if (= 1 1) (print 3) (print 5))\n",
    "```"
   ]
  },
  {
   "attachments": {},
   "cell_type": "markdown",
   "metadata": {},
   "source": [
    "# Q3: if program scheme\n",
    "\n",
    "```scheme\n",
    "(define (if-program condition if-true if-false)\n",
    "    (cons 'if\n",
    "        (cons condition\n",
    "            (cons if-true\n",
    "                (cons if-false nil))))\n",
    ")\n",
    "```"
   ]
  },
  {
   "attachments": {},
   "cell_type": "markdown",
   "metadata": {},
   "source": [
    "# Q4: exponential powers\n",
    "\n",
    "```scheme\n",
    "(define (pow-expr n p)\n",
    "    (if (= p 0) '1\n",
    "        `(* ,(pow-expr n (- p 1)) ,n)))\n",
    "```"
   ]
  },
  {
   "attachments": {},
   "cell_type": "markdown",
   "metadata": {},
   "source": [
    "# Q5: swap\n",
    "\n",
    "```scheme\n",
    "(define (cddr s)\n",
    "  (cdr (cdr s))\n",
    ")\n",
    "\n",
    "(define (cadr s)\n",
    "  (car (cdr s))\n",
    ")\n",
    "\n",
    "(define (caddr s)\n",
    "  (car (cddr s))\n",
    ")\n",
    "\n",
    "(define (swap expr)\n",
    "    (let ((op (car expr))\n",
    "        (first (car (cdr expr)))\n",
    "        (second (caddr expr))\n",
    "        (rest (cdr (cddr expr))))\n",
    "        (if (> (eval first) (eval second))\n",
    "            (cons op (cons first (cons second rest)))\n",
    "            (cons op (cons second (cons first rest))))\n",
    "    )\n",
    ")\n",
    "```"
   ]
  },
  {
   "attachments": {},
   "cell_type": "markdown",
   "metadata": {},
   "source": [
    "# Q6: make or\n",
    "\n",
    "```scheme\n",
    "scm> (define (make-or expr1 expr2) `(if ,expr1 ,expr1 ,expr2)) ; this is not true because expr1 is executed twice\n",
    "\n",
    "(define (make-or expr1 expr2)\n",
    "    `(let ((v1 ,expr1))\n",
    "        (if v1 v1 ,expr2))\n",
    ")\n",
    "```"
   ]
  },
  {
   "attachments": {},
   "cell_type": "markdown",
   "metadata": {},
   "source": [
    "# Q7: make \"make or\"\n",
    "\n",
    "```scheme\n",
    "(define (make-make-or)\n",
    "    '(define (make-or expr1 expr2) `(let ((v1 ,expr1)) (if v1 v1 ,expr2))))\n",
    "```\n",
    "\n",
    "```scheme\n",
    "scm> (make-make-or)\n",
    "(define (make-or expr1 expr2) (quasiquote (let ((v1 (unquote expr1))) (if v1 v1 (unquote expr2)))))\n",
    "scm> (eval (make-make-or))\n",
    "make-or\n",
    "scm> (eval (eval (make-make-or)))\n",
    "(lambda (expr1 expr2) (quasiquote (let ((v1 (unquote expr1))) (if v1 v1 (unquote expr2)))))\n",
    "scm> (apply (eval (eval (make-make-or))) '(#t (/ 1 0)))\n",
    "(let ((v1 #t)) (if v1 v1 (/ 1 0)))\n",
    "scm> (eval (apply (eval (eval (make-make-or))) '(#t (/ 1 0))))\n",
    "#t\n",
    "```"
   ]
  }
 ],
 "metadata": {
  "kernelspec": {
   "display_name": "Python 3",
   "language": "python",
   "name": "python3"
  },
  "language_info": {
   "codemirror_mode": {
    "name": "ipython",
    "version": 3
   },
   "file_extension": ".py",
   "mimetype": "text/x-python",
   "name": "python",
   "nbconvert_exporter": "python",
   "pygments_lexer": "ipython3",
   "version": "3.9.12 (tags/v3.9.12:b28265d, Mar 23 2022, 23:52:46) [MSC v.1929 64 bit (AMD64)]"
  },
  "orig_nbformat": 4,
  "vscode": {
   "interpreter": {
    "hash": "8f939dc046ae95b61db57b1ddfb635e5199eac9f7bf30422bfd106b8f44dc254"
   }
  }
 },
 "nbformat": 4,
 "nbformat_minor": 2
}
