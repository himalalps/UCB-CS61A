{
 "cells": [
  {
   "attachments": {},
   "cell_type": "markdown",
   "metadata": {},
   "source": [
    "### Example: prime factorization\n",
    "\n",
    "approach: find the smallest prime factor of `n`, then divide by it "
   ]
  },
  {
   "cell_type": "code",
   "execution_count": 1,
   "metadata": {},
   "outputs": [],
   "source": [
    "def prime_factors(n):\n",
    "    \"\"\"Print the prime factors of n in non-decreasing order.\n",
    "    \n",
    "    >>> prime_factors(8)\n",
    "    2\n",
    "    2\n",
    "    2\n",
    "    >>> prime_factors(9)\n",
    "    3\n",
    "    3\n",
    "    >>> prime_factors(10)\n",
    "    2\n",
    "    5\n",
    "    >>> prime_factors(11)\n",
    "    11\n",
    "    >>> prime_factors(12)\n",
    "    2\n",
    "    2\n",
    "    3\n",
    "    \"\"\"\n",
    "    while n > 1:\n",
    "        k = smallest_prime_factor(n)\n",
    "        n = n // k\n",
    "        print(k)\n",
    "\n",
    "def smallest_prime_factor(n):\n",
    "    \"\"\"Return the smallest k > 1 that evenly divides n.\"\"\"\n",
    "    k = 2\n",
    "    while n % k != 0:\n",
    "        k = k + 1\n",
    "    return k"
   ]
  },
  {
   "cell_type": "code",
   "execution_count": 2,
   "metadata": {},
   "outputs": [
    {
     "name": "stdout",
     "output_type": "stream",
     "text": [
      "2\n",
      "2\n",
      "2\n"
     ]
    }
   ],
   "source": [
    "prime_factors(8)"
   ]
  },
  {
   "cell_type": "code",
   "execution_count": 3,
   "metadata": {},
   "outputs": [
    {
     "name": "stdout",
     "output_type": "stream",
     "text": [
      "2\n",
      "2\n",
      "3\n"
     ]
    }
   ],
   "source": [
    "prime_factors(12)"
   ]
  },
  {
   "cell_type": "code",
   "execution_count": 5,
   "metadata": {},
   "outputs": [],
   "source": [
    "def fib(n):\n",
    "    \"\"\"Compute the nth Fibonacci number, for N >= 1.\"\"\"\n",
    "    pred, curr = 1, 0\n",
    "    k = 0\n",
    "    while k < n:\n",
    "        pred, curr = curr, pred + curr\n",
    "        k = k + 1\n",
    "    return curr"
   ]
  },
  {
   "attachments": {},
   "cell_type": "markdown",
   "metadata": {},
   "source": [
    "## Designing Functions\n",
    "\n",
    "domain - set of all inputs\n",
    "\n",
    "range - set of output values\n",
    "\n",
    "behavior - the relationship between input and output"
   ]
  },
  {
   "attachments": {},
   "cell_type": "markdown",
   "metadata": {},
   "source": [
    "## guide to designing function\n",
    "\n",
    "1. give each function exactly one job\n",
    "2. Don't repeat yourself\n",
    "3. define functions generally"
   ]
  },
  {
   "attachments": {},
   "cell_type": "markdown",
   "metadata": {},
   "source": [
    "## Higher-order functions\n",
    "\n",
    "generalize patterns with arguments"
   ]
  },
  {
   "cell_type": "code",
   "execution_count": 6,
   "metadata": {},
   "outputs": [],
   "source": [
    "\"\"\"Generalization.\"\"\"\n",
    "\n",
    "from math import pi, sqrt\n",
    "\n",
    "def area_square(r):\n",
    "    return r * r\n",
    "\n",
    "def area_circle(r):\n",
    "    return r * r * pi\n",
    "\n",
    "def area_hexagon(r):\n",
    "    return r * r * 3 * sqrt(3) / 2"
   ]
  },
  {
   "cell_type": "code",
   "execution_count": 7,
   "metadata": {},
   "outputs": [],
   "source": [
    "assert 3 > 2, 'Math is broken'"
   ]
  },
  {
   "cell_type": "code",
   "execution_count": 8,
   "metadata": {},
   "outputs": [
    {
     "ename": "AssertionError",
     "evalue": "That is false",
     "output_type": "error",
     "traceback": [
      "\u001b[1;31m---------------------------------------------------------------------------\u001b[0m",
      "\u001b[1;31mAssertionError\u001b[0m                            Traceback (most recent call last)",
      "Cell \u001b[1;32mIn[8], line 1\u001b[0m\n\u001b[1;32m----> 1\u001b[0m \u001b[39massert\u001b[39;00m \u001b[39m2\u001b[39m \u001b[39m>\u001b[39m \u001b[39m3\u001b[39m, \u001b[39m'\u001b[39m\u001b[39mThat is false\u001b[39m\u001b[39m'\u001b[39m\n",
      "\u001b[1;31mAssertionError\u001b[0m: That is false"
     ]
    }
   ],
   "source": [
    "assert 2 > 3, 'That is false'"
   ]
  },
  {
   "cell_type": "code",
   "execution_count": 10,
   "metadata": {},
   "outputs": [],
   "source": [
    "def area(r, shape_constant):\n",
    "    assert r > 0, 'A length must be positive'\n",
    "    return r * r * shape_constant"
   ]
  },
  {
   "attachments": {},
   "cell_type": "markdown",
   "metadata": {},
   "source": [
    "## generalize over computational processes\n",
    "\n",
    "common stucture among functions"
   ]
  },
  {
   "cell_type": "code",
   "execution_count": 11,
   "metadata": {},
   "outputs": [],
   "source": [
    "def sum_naturals(n):\n",
    "    \"\"\"Sum the first N natural numbers.\"\"\"\n",
    "    total, k = 0, 1\n",
    "    while k <= n:\n",
    "        total, k = total + k, k + 1\n",
    "    return total\n",
    "\n",
    "def sum_cubes(n):\n",
    "    \"\"\"Sum the first N cubes of natural numbers.\"\"\"\n",
    "    total, k = 0, 1\n",
    "    while k <= n:\n",
    "        total, k = total + pow(k, 3), k + 1\n",
    "    return total"
   ]
  },
  {
   "cell_type": "code",
   "execution_count": 12,
   "metadata": {},
   "outputs": [],
   "source": [
    "def identity(k):\n",
    "    return k\n",
    "\n",
    "def cube(k):\n",
    "    return pow(k, 3)\n",
    "\n",
    "def summation(n, term):\n",
    "    total, k = 0, 1\n",
    "    while k <= n:\n",
    "        total, k = total + term(k), k + 1\n",
    "    return total"
   ]
  },
  {
   "cell_type": "code",
   "execution_count": 13,
   "metadata": {},
   "outputs": [],
   "source": [
    "from operator import mul\n",
    "def make_adder(n):\n",
    "    \"\"\"Return a function that takes over K and return a function K + N.\"\"\"\n",
    "    def adder(k):\n",
    "        return k + n\n",
    "    return adder"
   ]
  },
  {
   "cell_type": "code",
   "execution_count": 14,
   "metadata": {},
   "outputs": [],
   "source": [
    "add_three = make_adder(3)"
   ]
  },
  {
   "cell_type": "code",
   "execution_count": 15,
   "metadata": {},
   "outputs": [
    {
     "data": {
      "text/plain": [
       "7"
      ]
     },
     "execution_count": 15,
     "metadata": {},
     "output_type": "execute_result"
    }
   ],
   "source": [
    "add_three(4)"
   ]
  }
 ],
 "metadata": {
  "kernelspec": {
   "display_name": "Python 3",
   "language": "python",
   "name": "python3"
  },
  "language_info": {
   "codemirror_mode": {
    "name": "ipython",
    "version": 3
   },
   "file_extension": ".py",
   "mimetype": "text/x-python",
   "name": "python",
   "nbconvert_exporter": "python",
   "pygments_lexer": "ipython3",
   "version": "3.9.12 (tags/v3.9.12:b28265d, Mar 23 2022, 23:52:46) [MSC v.1929 64 bit (AMD64)]"
  },
  "orig_nbformat": 4,
  "vscode": {
   "interpreter": {
    "hash": "8f939dc046ae95b61db57b1ddfb635e5199eac9f7bf30422bfd106b8f44dc254"
   }
  }
 },
 "nbformat": 4,
 "nbformat_minor": 2
}
