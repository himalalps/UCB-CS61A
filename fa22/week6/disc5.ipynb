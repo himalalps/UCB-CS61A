{
 "cells": [
  {
   "cell_type": "code",
   "execution_count": 1,
   "metadata": {},
   "outputs": [],
   "source": [
    "from doctest import testmod"
   ]
  },
  {
   "attachments": {},
   "cell_type": "markdown",
   "metadata": {},
   "source": [
    "# Q1: Map, Filter, Reduce"
   ]
  },
  {
   "cell_type": "code",
   "execution_count": 2,
   "metadata": {},
   "outputs": [],
   "source": [
    "def my_map(fn, seq):\n",
    "    \"\"\"Applies fn onto each element in seq and returns a list.\n",
    "    >>> my_map(lambda x: x*x, [1, 2, 3])\n",
    "    [1, 4, 9]\n",
    "    \"\"\"\n",
    "    return [fn(x) for x in seq]"
   ]
  },
  {
   "cell_type": "code",
   "execution_count": 3,
   "metadata": {},
   "outputs": [
    {
     "data": {
      "text/plain": [
       "TestResults(failed=0, attempted=1)"
      ]
     },
     "execution_count": 3,
     "metadata": {},
     "output_type": "execute_result"
    }
   ],
   "source": [
    "testmod()"
   ]
  },
  {
   "cell_type": "code",
   "execution_count": 4,
   "metadata": {},
   "outputs": [],
   "source": [
    "def my_filter(pred, seq):\n",
    "    \"\"\"Keeps elements in seq only if they satisfy pred.\n",
    "    >>> my_filter(lambda x: x % 2 == 0, [1, 2, 3, 4])  # new list has only even-valued elements\n",
    "    [2, 4]\n",
    "    \"\"\"\n",
    "    return sum([[x] if pred(x) else [] for x in seq], [])"
   ]
  },
  {
   "cell_type": "code",
   "execution_count": 5,
   "metadata": {},
   "outputs": [
    {
     "data": {
      "text/plain": [
       "TestResults(failed=0, attempted=2)"
      ]
     },
     "execution_count": 5,
     "metadata": {},
     "output_type": "execute_result"
    }
   ],
   "source": [
    "testmod()"
   ]
  },
  {
   "cell_type": "code",
   "execution_count": 6,
   "metadata": {},
   "outputs": [],
   "source": [
    "def my_reduce(combiner, seq):\n",
    "    \"\"\"Combines elements in seq using combiner.\n",
    "    seq will have at least one element.\n",
    "    >>> my_reduce(lambda x, y: x + y, [1, 2, 3, 4])  # 1 + 2 + 3 + 4\n",
    "    10\n",
    "    >>> my_reduce(lambda x, y: x * y, [1, 2, 3, 4])  # 1 * 2 * 3 * 4\n",
    "    24\n",
    "    >>> my_reduce(lambda x, y: x * y, [4])\n",
    "    4\n",
    "    >>> my_reduce(lambda x, y: x + 2 * y, [1, 2, 3]) # (1 + 2 * 2) + 2 * 3\n",
    "    11\n",
    "    \"\"\"\n",
    "    if len(seq) == 1:\n",
    "        return seq[0]\n",
    "    return my_reduce(combiner, [combiner(seq[0], seq[1])] + seq[2:])"
   ]
  },
  {
   "cell_type": "code",
   "execution_count": 7,
   "metadata": {},
   "outputs": [
    {
     "data": {
      "text/plain": [
       "TestResults(failed=0, attempted=6)"
      ]
     },
     "execution_count": 7,
     "metadata": {},
     "output_type": "execute_result"
    }
   ],
   "source": [
    "testmod()"
   ]
  },
  {
   "attachments": {},
   "cell_type": "markdown",
   "metadata": {},
   "source": [
    "# Q2: count palindromes"
   ]
  },
  {
   "cell_type": "code",
   "execution_count": 8,
   "metadata": {},
   "outputs": [],
   "source": [
    "def count_palindromes(L):\n",
    "    \"\"\"The number of palindromic strings in the sequence of strings\n",
    "    L (ignoring case).\n",
    "    >>> count_palindromes((\"Acme\", \"Madam\", \"Pivot\", \"Pip\"))\n",
    "    2\n",
    "    >>> count_palindromes([\"101\", \"rAcECaR\", \"much\", \"wow\"])\n",
    "    3\n",
    "    \"\"\"\n",
    "    return my_reduce(lambda x, y: x + y, my_map(\n",
    "        lambda _: 1, my_filter(\n",
    "        lambda s: s == s[::-1], my_map(\n",
    "        lambda s: s.lower(), L))))"
   ]
  },
  {
   "cell_type": "code",
   "execution_count": 9,
   "metadata": {},
   "outputs": [
    {
     "data": {
      "text/plain": [
       "TestResults(failed=0, attempted=8)"
      ]
     },
     "execution_count": 9,
     "metadata": {},
     "output_type": "execute_result"
    }
   ],
   "source": [
    "testmod()"
   ]
  },
  {
   "attachments": {},
   "cell_type": "markdown",
   "metadata": {},
   "source": [
    "# Q4: Height"
   ]
  },
  {
   "cell_type": "code",
   "execution_count": 10,
   "metadata": {},
   "outputs": [],
   "source": [
    "def tree(label, branches=[]):\n",
    "    \"\"\"Construct a tree with the given label value and a list of branches.\"\"\"\n",
    "    return [label] + list(branches)\n",
    "\n",
    "def label(tree):\n",
    "    \"\"\"Return the label value of a tree.\"\"\"\n",
    "    return tree[0]\n",
    "\n",
    "def branches(tree):\n",
    "    \"\"\"Return the list of branches of the given tree.\"\"\"\n",
    "    return tree[1:]\n",
    "\n",
    "def is_leaf(tree):\n",
    "    \"\"\"Returns True if the given tree's list of branches is empty, and False\n",
    "    otherwise.\n",
    "    \"\"\"\n",
    "    return not branches(tree)"
   ]
  },
  {
   "cell_type": "code",
   "execution_count": 11,
   "metadata": {},
   "outputs": [],
   "source": [
    "def height(t):\n",
    "    \"\"\"Return the height of a tree.\n",
    "\n",
    "    >>> t = tree(3, [tree(5, [tree(1)]), tree(2)])\n",
    "    >>> height(t)\n",
    "    2\n",
    "    >>> t = tree(3, [tree(1), tree(2, [tree(5, [tree(6)]), tree(1)])])\n",
    "    >>> height(t)\n",
    "    3\n",
    "    \"\"\"\n",
    "    if is_leaf(t):\n",
    "        return 0\n",
    "    return 1 + max([height(b) for b in branches(t)])"
   ]
  },
  {
   "cell_type": "code",
   "execution_count": 12,
   "metadata": {},
   "outputs": [
    {
     "data": {
      "text/plain": [
       "TestResults(failed=0, attempted=12)"
      ]
     },
     "execution_count": 12,
     "metadata": {},
     "output_type": "execute_result"
    }
   ],
   "source": [
    "testmod()"
   ]
  },
  {
   "attachments": {},
   "cell_type": "markdown",
   "metadata": {},
   "source": [
    "# Q5: maximum path sum"
   ]
  },
  {
   "cell_type": "code",
   "execution_count": 13,
   "metadata": {},
   "outputs": [],
   "source": [
    "def max_path_sum(t):\n",
    "    \"\"\"Return the maximum path sum of the tree.\n",
    "\n",
    "    >>> t = tree(1, [tree(5, [tree(1), tree(3)]), tree(10)])\n",
    "    >>> max_path_sum(t)\n",
    "    11\n",
    "    \"\"\"\n",
    "    if is_leaf(t):\n",
    "        return label(t)\n",
    "    return label(t) + max([max_path_sum(b) for b in branches(t)])"
   ]
  },
  {
   "cell_type": "code",
   "execution_count": 14,
   "metadata": {},
   "outputs": [
    {
     "data": {
      "text/plain": [
       "TestResults(failed=0, attempted=14)"
      ]
     },
     "execution_count": 14,
     "metadata": {},
     "output_type": "execute_result"
    }
   ],
   "source": [
    "testmod()"
   ]
  },
  {
   "attachments": {},
   "cell_type": "markdown",
   "metadata": {},
   "source": [
    "# Q6: find path"
   ]
  },
  {
   "cell_type": "code",
   "execution_count": 15,
   "metadata": {},
   "outputs": [],
   "source": [
    "def find_path(t, x):\n",
    "    \"\"\"\n",
    "    >>> t = tree(2, [tree(7, [tree(3), tree(6, [tree(5), tree(11)])] ), tree(15)])\n",
    "    >>> find_path(t, 5)\n",
    "    [2, 7, 6, 5]\n",
    "    >>> find_path(t, 10)  # returns None\n",
    "    \"\"\"\n",
    "    if label(t) == x:\n",
    "        return [x]\n",
    "    for b in branches(t):\n",
    "        path = find_path(b, x)\n",
    "        if path:\n",
    "            return [label(t)] + path"
   ]
  },
  {
   "cell_type": "code",
   "execution_count": 16,
   "metadata": {},
   "outputs": [
    {
     "data": {
      "text/plain": [
       "TestResults(failed=0, attempted=17)"
      ]
     },
     "execution_count": 16,
     "metadata": {},
     "output_type": "execute_result"
    }
   ],
   "source": [
    "testmod()"
   ]
  },
  {
   "attachments": {},
   "cell_type": "markdown",
   "metadata": {},
   "source": [
    "# Q7: perfectly balanced"
   ]
  },
  {
   "cell_type": "code",
   "execution_count": 17,
   "metadata": {},
   "outputs": [],
   "source": [
    "def sum_tree(t):\n",
    "    \"\"\"\n",
    "    Add all elements in a tree.\n",
    "    >>> t = tree(4, [tree(2, [tree(3)]), tree(6)])\n",
    "    >>> sum_tree(t)\n",
    "    15\n",
    "    \"\"\"\n",
    "    return label(t) + sum([sum_tree(b) for b in branches(t)])"
   ]
  },
  {
   "cell_type": "code",
   "execution_count": 18,
   "metadata": {},
   "outputs": [
    {
     "data": {
      "text/plain": [
       "TestResults(failed=0, attempted=19)"
      ]
     },
     "execution_count": 18,
     "metadata": {},
     "output_type": "execute_result"
    }
   ],
   "source": [
    "testmod()"
   ]
  },
  {
   "cell_type": "code",
   "execution_count": 19,
   "metadata": {},
   "outputs": [],
   "source": [
    "def balanced(t):\n",
    "    \"\"\"\n",
    "    Checks if each branch has same sum of all elements and\n",
    "    if each branch is balanced.\n",
    "    >>> t = tree(1, [tree(3), tree(1, [tree(2)]), tree(1, [tree(1), tree(1)])])\n",
    "    >>> balanced(t)\n",
    "    True\n",
    "    >>> t = tree(1, [t, tree(1)])\n",
    "    >>> balanced(t)\n",
    "    False\n",
    "    >>> t = tree(1, [tree(4), tree(1, [tree(2), tree(1)]), tree(1, [tree(3)])])\n",
    "    >>> balanced(t)\n",
    "    False\n",
    "    \"\"\"\n",
    "    return (True if my_reduce(lambda x, y: x if x == y else False, [sum_tree(b) for b in branches(t)]) else False) and all([balanced(b) if branches(b) else True for b in branches(t)])"
   ]
  },
  {
   "cell_type": "code",
   "execution_count": 20,
   "metadata": {},
   "outputs": [
    {
     "data": {
      "text/plain": [
       "TestResults(failed=0, attempted=25)"
      ]
     },
     "execution_count": 20,
     "metadata": {},
     "output_type": "execute_result"
    }
   ],
   "source": [
    "testmod()"
   ]
  },
  {
   "attachments": {},
   "cell_type": "markdown",
   "metadata": {},
   "source": [
    "# Q8: hailstone tree"
   ]
  },
  {
   "cell_type": "code",
   "execution_count": 21,
   "metadata": {},
   "outputs": [],
   "source": [
    "def hailstone_tree(n, h):\n",
    "    \"\"\"Generates a tree of hailstone numbers that will reach N, with height H.\n",
    "    >>> print_tree(hailstone_tree(1, 0))\n",
    "    1\n",
    "    >>> print_tree(hailstone_tree(1, 4))\n",
    "    1\n",
    "        2\n",
    "            4\n",
    "                8\n",
    "                    16\n",
    "    >>> print_tree(hailstone_tree(8, 3))\n",
    "    8\n",
    "        16\n",
    "            32\n",
    "                64\n",
    "            5\n",
    "                10\n",
    "    \"\"\"\n",
    "    if h == 0:\n",
    "        return tree(n, [])\n",
    "    branches = [hailstone_tree(n * 2, h - 1)]\n",
    "    if (n - 1) % 3 == 0 and (n - 1) // 3 != 1 and n != 1:\n",
    "        branches += [hailstone_tree((n - 1) // 3, h - 1)]\n",
    "    return tree(n, branches)\n",
    "\n",
    "def print_tree(t):\n",
    "    def helper(i, t):\n",
    "        print(\"    \" * i + str(label(t)))\n",
    "        for b in branches(t):\n",
    "            helper(i + 1, b)\n",
    "    helper(0, t)"
   ]
  },
  {
   "cell_type": "code",
   "execution_count": 22,
   "metadata": {},
   "outputs": [
    {
     "data": {
      "text/plain": [
       "TestResults(failed=0, attempted=28)"
      ]
     },
     "execution_count": 22,
     "metadata": {},
     "output_type": "execute_result"
    }
   ],
   "source": [
    "testmod()"
   ]
  }
 ],
 "metadata": {
  "kernelspec": {
   "display_name": "Python 3",
   "language": "python",
   "name": "python3"
  },
  "language_info": {
   "codemirror_mode": {
    "name": "ipython",
    "version": 3
   },
   "file_extension": ".py",
   "mimetype": "text/x-python",
   "name": "python",
   "nbconvert_exporter": "python",
   "pygments_lexer": "ipython3",
   "version": "3.9.12 (tags/v3.9.12:b28265d, Mar 23 2022, 23:52:46) [MSC v.1929 64 bit (AMD64)]"
  },
  "orig_nbformat": 4,
  "vscode": {
   "interpreter": {
    "hash": "8f939dc046ae95b61db57b1ddfb635e5199eac9f7bf30422bfd106b8f44dc254"
   }
  }
 },
 "nbformat": 4,
 "nbformat_minor": 2
}
