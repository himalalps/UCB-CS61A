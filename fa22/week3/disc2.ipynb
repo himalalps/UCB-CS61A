{
 "cells": [
  {
   "attachments": {},
   "cell_type": "markdown",
   "metadata": {},
   "source": [
    "# Q5: Make keeper"
   ]
  },
  {
   "cell_type": "code",
   "execution_count": 1,
   "metadata": {},
   "outputs": [],
   "source": [
    "def make_keeper(n):\n",
    "    \"\"\"Returns a function which takes one parameter cond and prints\n",
    "    out all integers 1..i..n where calling cond(i) returns True.\n",
    "\n",
    "    >>> def is_even(x):\n",
    "    ...     # Even numbers have remainder 0 when divided by 2.\n",
    "    ...     return x % 2 == 0\n",
    "    >>> make_keeper(5)(is_even)\n",
    "    2\n",
    "    4\n",
    "    \"\"\"\n",
    "    def keeper(cond):\n",
    "        for i in range(n):\n",
    "            if cond(i + 1):\n",
    "                print(i + 1)\n",
    "    return keeper\n",
    "\n"
   ]
  },
  {
   "cell_type": "code",
   "execution_count": 2,
   "metadata": {},
   "outputs": [
    {
     "data": {
      "text/plain": [
       "TestResults(failed=0, attempted=2)"
      ]
     },
     "execution_count": 2,
     "metadata": {},
     "output_type": "execute_result"
    }
   ],
   "source": [
    "import doctest\n",
    "doctest.testmod()"
   ]
  },
  {
   "cell_type": "code",
   "execution_count": 8,
   "metadata": {},
   "outputs": [],
   "source": [
    "def f1():\n",
    "    \"\"\"\n",
    "    >>> f1()\n",
    "    3\n",
    "    \"\"\"\n",
    "    return 3\n",
    "\n",
    "def f2():\n",
    "    \"\"\"\n",
    "    >>> f2()()\n",
    "    3\n",
    "    \"\"\"\n",
    "    return lambda: 3\n",
    "\n",
    "def f3():\n",
    "    \"\"\"\n",
    "    >>> f3()(3)\n",
    "    3\n",
    "    \"\"\"\n",
    "    return lambda x: x\n",
    "\n",
    "def f4():\n",
    "    \"\"\"\n",
    "    >>> f4()()(3)()\n",
    "    3\n",
    "    \"\"\"\n",
    "    return lambda: lambda x: lambda: x\n",
    "\n"
   ]
  },
  {
   "cell_type": "code",
   "execution_count": 9,
   "metadata": {},
   "outputs": [
    {
     "data": {
      "text/plain": [
       "3"
      ]
     },
     "execution_count": 9,
     "metadata": {},
     "output_type": "execute_result"
    }
   ],
   "source": [
    "f1()"
   ]
  },
  {
   "cell_type": "code",
   "execution_count": 11,
   "metadata": {},
   "outputs": [
    {
     "data": {
      "text/plain": [
       "3"
      ]
     },
     "execution_count": 11,
     "metadata": {},
     "output_type": "execute_result"
    }
   ],
   "source": [
    "f2()()"
   ]
  },
  {
   "cell_type": "code",
   "execution_count": 12,
   "metadata": {},
   "outputs": [
    {
     "data": {
      "text/plain": [
       "3"
      ]
     },
     "execution_count": 12,
     "metadata": {},
     "output_type": "execute_result"
    }
   ],
   "source": [
    "f3()(3)"
   ]
  },
  {
   "cell_type": "code",
   "execution_count": 13,
   "metadata": {},
   "outputs": [
    {
     "data": {
      "text/plain": [
       "3"
      ]
     },
     "execution_count": 13,
     "metadata": {},
     "output_type": "execute_result"
    }
   ],
   "source": [
    "f4()()(3)()"
   ]
  },
  {
   "cell_type": "code",
   "execution_count": 14,
   "metadata": {},
   "outputs": [
    {
     "data": {
      "text/plain": [
       "TestResults(failed=0, attempted=6)"
      ]
     },
     "execution_count": 14,
     "metadata": {},
     "output_type": "execute_result"
    }
   ],
   "source": [
    "doctest.testmod()"
   ]
  },
  {
   "attachments": {},
   "cell_type": "markdown",
   "metadata": {},
   "source": [
    "# Q8: Match maker"
   ]
  },
  {
   "cell_type": "code",
   "execution_count": 18,
   "metadata": {},
   "outputs": [],
   "source": [
    "def match_k(k):\n",
    "    \"\"\" Return a function that checks if digits k apart match\n",
    "\n",
    "    >>> match_k(2)(1010)\n",
    "    True\n",
    "    >>> match_k(2)(2010)\n",
    "    False\n",
    "    >>> match_k(1)(1010)\n",
    "    False\n",
    "    >>> match_k(1)(1)\n",
    "    True\n",
    "    >>> match_k(1)(2111111111111111)\n",
    "    False\n",
    "    >>> match_k(3)(123123)\n",
    "    True\n",
    "    >>> match_k(2)(123123)\n",
    "    False\n",
    "    \"\"\"\n",
    "    def match(x):\n",
    "        while x >= 10 ** k:\n",
    "            if x % 10 != x // 10 ** k % 10:\n",
    "                return False\n",
    "            x = x // 10\n",
    "        return True\n",
    "    return match"
   ]
  },
  {
   "cell_type": "code",
   "execution_count": 19,
   "metadata": {},
   "outputs": [
    {
     "data": {
      "text/plain": [
       "TestResults(failed=0, attempted=13)"
      ]
     },
     "execution_count": 19,
     "metadata": {},
     "output_type": "execute_result"
    }
   ],
   "source": [
    "doctest.testmod()"
   ]
  }
 ],
 "metadata": {
  "kernelspec": {
   "display_name": "Python 3",
   "language": "python",
   "name": "python3"
  },
  "language_info": {
   "codemirror_mode": {
    "name": "ipython",
    "version": 3
   },
   "file_extension": ".py",
   "mimetype": "text/x-python",
   "name": "python",
   "nbconvert_exporter": "python",
   "pygments_lexer": "ipython3",
   "version": "3.9.12 (tags/v3.9.12:b28265d, Mar 23 2022, 23:52:46) [MSC v.1929 64 bit (AMD64)]"
  },
  "orig_nbformat": 4,
  "vscode": {
   "interpreter": {
    "hash": "8f939dc046ae95b61db57b1ddfb635e5199eac9f7bf30422bfd106b8f44dc254"
   }
  }
 },
 "nbformat": 4,
 "nbformat_minor": 2
}
