{
 "cells": [
  {
   "attachments": {},
   "cell_type": "markdown",
   "metadata": {},
   "source": [
    "# Q2: the hy-rules of linked lists"
   ]
  },
  {
   "cell_type": "code",
   "execution_count": 1,
   "metadata": {},
   "outputs": [],
   "source": [
    "class Link:\n",
    "    \"\"\"A linked list.\"\"\"\n",
    "    empty = ()\n",
    "\n",
    "    def __init__(self, first, rest=empty):\n",
    "        assert rest is Link.empty or isinstance(rest, Link)\n",
    "        self.first = first\n",
    "        self.rest = rest\n",
    "\n",
    "    def __repr__(self):\n",
    "        if self.rest:\n",
    "            rest_repr = ', ' + repr(self.rest)\n",
    "        else:\n",
    "            rest_repr = ''\n",
    "        return 'Link(' + repr(self.first) + rest_repr + ')'\n",
    "\n",
    "    def __str__(self):\n",
    "        string = '<'\n",
    "        while self.rest is not Link.empty:\n",
    "            string += str(self.first) + ' '\n",
    "            self = self.rest\n",
    "        return string + str(self.first) + '>'"
   ]
  },
  {
   "cell_type": "code",
   "execution_count": 2,
   "metadata": {},
   "outputs": [],
   "source": [
    "ganondorf = Link('zelda', Link('link', Link('sheik', Link.empty)))"
   ]
  },
  {
   "cell_type": "code",
   "execution_count": 4,
   "metadata": {},
   "outputs": [
    {
     "data": {
      "text/plain": [
       "'sheik'"
      ]
     },
     "execution_count": 4,
     "metadata": {},
     "output_type": "execute_result"
    }
   ],
   "source": [
    "ganondorf.rest.rest.first"
   ]
  },
  {
   "cell_type": "code",
   "execution_count": 5,
   "metadata": {},
   "outputs": [
    {
     "data": {
      "text/plain": [
       "'link'"
      ]
     },
     "execution_count": 5,
     "metadata": {},
     "output_type": "execute_result"
    }
   ],
   "source": [
    "ganondorf.rest.first"
   ]
  },
  {
   "cell_type": "code",
   "execution_count": 6,
   "metadata": {},
   "outputs": [
    {
     "data": {
      "text/plain": [
       "'<zelda link sheik>'"
      ]
     },
     "execution_count": 6,
     "metadata": {},
     "output_type": "execute_result"
    }
   ],
   "source": [
    "str(ganondorf)"
   ]
  },
  {
   "cell_type": "code",
   "execution_count": 7,
   "metadata": {},
   "outputs": [
    {
     "data": {
      "text/plain": [
       "'<zelda ganondorf sheik>'"
      ]
     },
     "execution_count": 7,
     "metadata": {},
     "output_type": "execute_result"
    }
   ],
   "source": [
    "ganondorf.rest.first = 'ganondorf'\n",
    "str(ganondorf)"
   ]
  },
  {
   "attachments": {},
   "cell_type": "markdown",
   "metadata": {},
   "source": [
    "# Q3: sum nums"
   ]
  },
  {
   "cell_type": "code",
   "execution_count": 8,
   "metadata": {},
   "outputs": [],
   "source": [
    "def sum_nums(s):\n",
    "    \"\"\"\n",
    "    >>> a = Link(1, Link(6, Link(7)))\n",
    "    >>> sum_nums(a)\n",
    "    14\n",
    "    \"\"\"\n",
    "    if s.rest is Link.empty:\n",
    "        return s.first\n",
    "    return s.first + sum_nums(s.rest)"
   ]
  },
  {
   "attachments": {},
   "cell_type": "markdown",
   "metadata": {},
   "source": [
    "# Q4: multiply links"
   ]
  },
  {
   "cell_type": "code",
   "execution_count": 9,
   "metadata": {},
   "outputs": [],
   "source": [
    "def multiply_lnks(lst_of_lnks):\n",
    "    \"\"\"\n",
    "    >>> a = Link(2, Link(3, Link(5)))\n",
    "    >>> b = Link(6, Link(4, Link(2)))\n",
    "    >>> c = Link(4, Link(1, Link(0, Link(2))))\n",
    "    >>> p = multiply_lnks([a, b, c])\n",
    "    >>> p.first\n",
    "    48\n",
    "    >>> p.rest.first\n",
    "    12\n",
    "    >>> p.rest.rest.rest is Link.empty\n",
    "    True\n",
    "    \"\"\"\n",
    "    ret = Link(1)\n",
    "    lnks = []\n",
    "    flag = True\n",
    "    for lnk in lst_of_lnks:\n",
    "        ret.first *= lnk.first\n",
    "        if lnk.rest is Link.empty:\n",
    "            flag = False\n",
    "        else:\n",
    "            lnks.append(lnk.rest)\n",
    "    if flag:\n",
    "        ret.rest = multiply_lnks(lnks)\n",
    "    return ret"
   ]
  },
  {
   "attachments": {},
   "cell_type": "markdown",
   "metadata": {},
   "source": [
    "# Q5: flip two"
   ]
  },
  {
   "cell_type": "code",
   "execution_count": 10,
   "metadata": {},
   "outputs": [],
   "source": [
    "def flip_two(s):\n",
    "    \"\"\"\n",
    "    >>> one_lnk = Link(1)\n",
    "    >>> flip_two(one_lnk)\n",
    "    >>> one_lnk\n",
    "    Link(1)\n",
    "    >>> lnk = Link(1, Link(2, Link(3, Link(4, Link(5)))))\n",
    "    >>> flip_two(lnk)\n",
    "    >>> lnk\n",
    "    Link(2, Link(1, Link(4, Link(3, Link(5)))))\n",
    "    \"\"\"\n",
    "    # recursive\n",
    "    if s is Link.empty or s.rest is Link.empty:\n",
    "        return\n",
    "    flip_two(s.rest.rest)\n",
    "    r = s.first\n",
    "    s.first = s.rest.first\n",
    "    s.rest = Link(r, s.rest.rest)\n",
    "    return\n",
    "    # iterative\n",
    "    while s and s.rest:\n",
    "        r = s.first\n",
    "        s.first = s.rest.first\n",
    "        s.rest.first = r\n",
    "        s = s.rest.rest"
   ]
  },
  {
   "attachments": {},
   "cell_type": "markdown",
   "metadata": {},
   "source": [
    "# Q6: make even"
   ]
  },
  {
   "cell_type": "code",
   "execution_count": 11,
   "metadata": {},
   "outputs": [],
   "source": [
    "def make_even(t):\n",
    "    \"\"\"\n",
    "    >>> t = Tree(1, [Tree(2, [Tree(3)]), Tree(4), Tree(5)])\n",
    "    >>> make_even(t)\n",
    "    >>> t.label\n",
    "    2\n",
    "    >>> t.branches[0].branches[0].label\n",
    "    4\n",
    "    \"\"\"\n",
    "    if t.label % 2:\n",
    "        t.label += 1\n",
    "    for b in t.branches:\n",
    "        make_even(b)"
   ]
  },
  {
   "attachments": {},
   "cell_type": "markdown",
   "metadata": {},
   "source": [
    "# Q7: add leaves"
   ]
  },
  {
   "cell_type": "code",
   "execution_count": 12,
   "metadata": {},
   "outputs": [],
   "source": [
    "class Tree:\n",
    "    def __init__(self, label, branches=[]):\n",
    "        for b in branches:\n",
    "            assert isinstance(b, Tree)\n",
    "        self.label = label\n",
    "        self.branches = branches\n",
    "\n",
    "    def is_leaf(self):\n",
    "        return not self.branches"
   ]
  },
  {
   "cell_type": "code",
   "execution_count": 13,
   "metadata": {},
   "outputs": [],
   "source": [
    "def add_d_leaves(t, v, d=0):\n",
    "    \"\"\"Add d leaves containing v to each node at every depth d.\n",
    "\n",
    "    >>> t_one_to_four = Tree(1, [Tree(2), Tree(3, [Tree(4)])])\n",
    "    >>> print(t_one_to_four)\n",
    "    1\n",
    "      2\n",
    "      3\n",
    "        4\n",
    "    >>> add_d_leaves(t_one_to_four, 5)\n",
    "    >>> print(t_one_to_four)\n",
    "    1\n",
    "      2\n",
    "        5\n",
    "      3\n",
    "        4\n",
    "          5\n",
    "          5\n",
    "        5\n",
    "\n",
    "    >>> t1 = Tree(1, [Tree(3)])\n",
    "    >>> add_d_leaves(t1, 4)\n",
    "    >>> t1\n",
    "    Tree(1, [Tree(3, [Tree(4)])])\n",
    "    >>> t2 = Tree(2, [Tree(5), Tree(6)])\n",
    "    >>> t3 = Tree(3, [t1, Tree(0), t2])\n",
    "    >>> print(t3)\n",
    "    3\n",
    "      1\n",
    "        3\n",
    "          4\n",
    "      0\n",
    "      2\n",
    "        5\n",
    "        6\n",
    "    >>> add_d_leaves(t3, 10)\n",
    "    >>> print(t3)\n",
    "    3\n",
    "      1\n",
    "        3\n",
    "          4\n",
    "            10\n",
    "            10\n",
    "            10\n",
    "          10\n",
    "          10\n",
    "        10\n",
    "      0\n",
    "        10\n",
    "      2\n",
    "        5\n",
    "          10\n",
    "          10\n",
    "        6\n",
    "          10\n",
    "          10\n",
    "        10\n",
    "    \"\"\"\n",
    "    for b in t.branches:\n",
    "        add_d_leaves(b, v, d + 1)\n",
    "    for _ in range(d):\n",
    "        t.branches.append(Tree(v))"
   ]
  },
  {
   "attachments": {},
   "cell_type": "markdown",
   "metadata": {},
   "source": [
    "# Q8: orders of growth"
   ]
  },
  {
   "cell_type": "code",
   "execution_count": 14,
   "metadata": {},
   "outputs": [],
   "source": [
    "def is_prime(n):\n",
    "    for i in range(2, n):\n",
    "        if n % i == 0:\n",
    "            return False\n",
    "    return True"
   ]
  },
  {
   "cell_type": "code",
   "execution_count": null,
   "metadata": {},
   "outputs": [],
   "source": []
  }
 ],
 "metadata": {
  "kernelspec": {
   "display_name": "Python 3",
   "language": "python",
   "name": "python3"
  },
  "language_info": {
   "codemirror_mode": {
    "name": "ipython",
    "version": 3
   },
   "file_extension": ".py",
   "mimetype": "text/x-python",
   "name": "python",
   "nbconvert_exporter": "python",
   "pygments_lexer": "ipython3",
   "version": "3.9.12"
  },
  "orig_nbformat": 4,
  "vscode": {
   "interpreter": {
    "hash": "8f939dc046ae95b61db57b1ddfb635e5199eac9f7bf30422bfd106b8f44dc254"
   }
  }
 },
 "nbformat": 4,
 "nbformat_minor": 2
}
