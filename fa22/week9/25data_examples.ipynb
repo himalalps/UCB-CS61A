{
 "cells": [
  {
   "attachments": {},
   "cell_type": "markdown",
   "metadata": {},
   "source": [
    "# lists"
   ]
  },
  {
   "cell_type": "code",
   "execution_count": 2,
   "metadata": {},
   "outputs": [],
   "source": [
    "class Worker:\n",
    "    greeting = 'Sir'\n",
    "    def __init__(self):\n",
    "        self.elf = Worker\n",
    "    def work(self):\n",
    "        return self.greeting + ', I work'\n",
    "    def __repr__(self):\n",
    "        return Bourgenoisie.greeting\n",
    "    \n",
    "class Bourgenoisie(Worker):\n",
    "    greeting = 'Peon'\n",
    "    def work(self):\n",
    "        print(Worker.work(self))\n",
    "        return 'I gather wealth'\n",
    "    \n",
    "jack = Worker()\n",
    "john = Bourgenoisie()\n",
    "jack.greeting = 'Maam'"
   ]
  },
  {
   "cell_type": "code",
   "execution_count": 3,
   "metadata": {},
   "outputs": [
    {
     "data": {
      "text/plain": [
       "'Sir, I work'"
      ]
     },
     "execution_count": 3,
     "metadata": {},
     "output_type": "execute_result"
    }
   ],
   "source": [
    "Worker().work()"
   ]
  },
  {
   "cell_type": "code",
   "execution_count": 4,
   "metadata": {},
   "outputs": [
    {
     "data": {
      "text/plain": [
       "Peon"
      ]
     },
     "execution_count": 4,
     "metadata": {},
     "output_type": "execute_result"
    }
   ],
   "source": [
    "jack"
   ]
  },
  {
   "cell_type": "code",
   "execution_count": 5,
   "metadata": {},
   "outputs": [
    {
     "data": {
      "text/plain": [
       "'Maam, I work'"
      ]
     },
     "execution_count": 5,
     "metadata": {},
     "output_type": "execute_result"
    }
   ],
   "source": [
    "jack.work()"
   ]
  },
  {
   "cell_type": "code",
   "execution_count": 6,
   "metadata": {},
   "outputs": [
    {
     "name": "stdout",
     "output_type": "stream",
     "text": [
      "Peon, I work\n"
     ]
    },
    {
     "data": {
      "text/plain": [
       "'I gather wealth'"
      ]
     },
     "execution_count": 6,
     "metadata": {},
     "output_type": "execute_result"
    }
   ],
   "source": [
    "john.work()"
   ]
  },
  {
   "cell_type": "code",
   "execution_count": 7,
   "metadata": {},
   "outputs": [
    {
     "data": {
      "text/plain": [
       "'Peon, I work'"
      ]
     },
     "execution_count": 7,
     "metadata": {},
     "output_type": "execute_result"
    }
   ],
   "source": [
    "john.elf.work(john)"
   ]
  },
  {
   "cell_type": "code",
   "execution_count": 8,
   "metadata": {},
   "outputs": [],
   "source": [
    "def min_abs_indices(s):\n",
    "    min_abs = min(map(abs, s))\n",
    "    return [i for i in range(len(s)) if abs(s[i]) == min_abs]"
   ]
  },
  {
   "cell_type": "code",
   "execution_count": 9,
   "metadata": {},
   "outputs": [
    {
     "data": {
      "text/plain": [
       "[2, 4]"
      ]
     },
     "execution_count": 9,
     "metadata": {},
     "output_type": "execute_result"
    }
   ],
   "source": [
    "min_abs_indices([-4, -3, -2, 3, 2, 4])"
   ]
  },
  {
   "cell_type": "code",
   "execution_count": 10,
   "metadata": {},
   "outputs": [],
   "source": [
    "def largest_adj_sum(s):\n",
    "    return max([s[i] + s[i + 1] for i in range(len(s) - 1)])"
   ]
  },
  {
   "cell_type": "code",
   "execution_count": 11,
   "metadata": {},
   "outputs": [
    {
     "data": {
      "text/plain": [
       "6"
      ]
     },
     "execution_count": 11,
     "metadata": {},
     "output_type": "execute_result"
    }
   ],
   "source": [
    "largest_adj_sum([-4, -3, -2, 3, 2, 4])"
   ]
  },
  {
   "cell_type": "code",
   "execution_count": 12,
   "metadata": {},
   "outputs": [],
   "source": [
    "def digit_dict(s):\n",
    "    ret = {}\n",
    "    for elem in s:\n",
    "        if elem % 10 in ret:\n",
    "            ret[elem % 10].append(elem)\n",
    "        else:\n",
    "            ret[elem % 10] = [elem]\n",
    "    return ret"
   ]
  },
  {
   "cell_type": "code",
   "execution_count": 13,
   "metadata": {},
   "outputs": [
    {
     "data": {
      "text/plain": [
       "{5: [5, 55], 8: [8], 3: [13], 1: [21], 4: [34], 9: [89]}"
      ]
     },
     "execution_count": 13,
     "metadata": {},
     "output_type": "execute_result"
    }
   ],
   "source": [
    "digit_dict([5, 8, 13, 21, 34, 55, 89])"
   ]
  },
  {
   "cell_type": "code",
   "execution_count": 14,
   "metadata": {},
   "outputs": [],
   "source": [
    "def digit_dict(s):\n",
    "    return {d: [x for x in s if x % 10 == d] for d in range(10) if any([x % 10 == d for x in s])}"
   ]
  },
  {
   "cell_type": "code",
   "execution_count": 15,
   "metadata": {},
   "outputs": [
    {
     "data": {
      "text/plain": [
       "{1: [21], 3: [13], 4: [34], 5: [5, 55], 8: [8], 9: [89]}"
      ]
     },
     "execution_count": 15,
     "metadata": {},
     "output_type": "execute_result"
    }
   ],
   "source": [
    "digit_dict([5, 8, 13, 21, 34, 55, 89])"
   ]
  },
  {
   "cell_type": "code",
   "execution_count": 16,
   "metadata": {},
   "outputs": [],
   "source": [
    "def all_have_an_equal(s):\n",
    "    return all([s[i] in s[:i] + s[i + 1:] for i in range(len(s))])"
   ]
  },
  {
   "cell_type": "code",
   "execution_count": 17,
   "metadata": {},
   "outputs": [
    {
     "data": {
      "text/plain": [
       "False"
      ]
     },
     "execution_count": 17,
     "metadata": {},
     "output_type": "execute_result"
    }
   ],
   "source": [
    "all_have_an_equal([-4, -3, -2, 3, 2, 4])"
   ]
  },
  {
   "cell_type": "code",
   "execution_count": 18,
   "metadata": {},
   "outputs": [
    {
     "data": {
      "text/plain": [
       "True"
      ]
     },
     "execution_count": 18,
     "metadata": {},
     "output_type": "execute_result"
    }
   ],
   "source": [
    "all_have_an_equal([4, 3, 2, 3, 2, 4])"
   ]
  },
  {
   "cell_type": "code",
   "execution_count": 19,
   "metadata": {},
   "outputs": [],
   "source": [
    "def all_have_an_equal(s):\n",
    "    return min([sum([1 for y in s if y == x]) for x in s]) > 1"
   ]
  },
  {
   "cell_type": "code",
   "execution_count": 20,
   "metadata": {},
   "outputs": [
    {
     "data": {
      "text/plain": [
       "False"
      ]
     },
     "execution_count": 20,
     "metadata": {},
     "output_type": "execute_result"
    }
   ],
   "source": [
    "all_have_an_equal([-4, -3, -2, 3, 2, 4])"
   ]
  },
  {
   "cell_type": "code",
   "execution_count": 21,
   "metadata": {},
   "outputs": [
    {
     "data": {
      "text/plain": [
       "True"
      ]
     },
     "execution_count": 21,
     "metadata": {},
     "output_type": "execute_result"
    }
   ],
   "source": [
    "all_have_an_equal([4, 3, 2, 3, 2, 4])"
   ]
  },
  {
   "cell_type": "code",
   "execution_count": 22,
   "metadata": {},
   "outputs": [],
   "source": [
    "class Link:\n",
    "    \"\"\"A linked list.\n",
    "\n",
    "    >>> Link(1, Link(2, Link(3)))\n",
    "    Link(1, Link(2, Link(3)))\n",
    "    >>> s = Link(1, Link(Link(2, Link(3)), Link(4)))\n",
    "    >>> s\n",
    "    Link(1, Link(Link(2, Link(3)), Link(4)))\n",
    "    >>> print(s)\n",
    "    <1 <2 3> 4>\n",
    "    \"\"\"\n",
    "\n",
    "    empty = ()\n",
    "\n",
    "    def __init__(self, first, rest=empty):\n",
    "        assert rest is Link.empty or isinstance(rest, Link)\n",
    "        self.first = first\n",
    "        self.rest = rest\n",
    "\n",
    "    def __repr__(self):\n",
    "        if self.rest:\n",
    "            rest_repr = ', ' + repr(self.rest)\n",
    "        else:\n",
    "            rest_repr = ''\n",
    "        return 'Link(' + repr(self.first) + rest_repr + ')'\n",
    "\n",
    "    def __str__(self):\n",
    "        string = '<'\n",
    "        while self.rest is not Link.empty:\n",
    "            string += str(self.first) + ' '\n",
    "            self = self.rest\n",
    "        return string + str(self.first) + '>'\n",
    "\n"
   ]
  },
  {
   "cell_type": "code",
   "execution_count": 24,
   "metadata": {},
   "outputs": [],
   "source": [
    "def ordered(s, key=lambda x: x):\n",
    "    if s is Link.empty or s.rest is Link.empty:\n",
    "        return True\n",
    "    elif key(s.first) > key(s.rest.first):\n",
    "        return False\n",
    "    else:\n",
    "        return ordered(s.rest)"
   ]
  },
  {
   "cell_type": "code",
   "execution_count": 25,
   "metadata": {},
   "outputs": [],
   "source": [
    "def merge(s, t):\n",
    "    if s is Link.empty:\n",
    "        return t\n",
    "    if t is Link.empty:\n",
    "        return s\n",
    "    if s.first <= t.first:\n",
    "        return Link(s.first, merge(s.rest, t))\n",
    "    return Link(t.first, merge(s, t.rest))"
   ]
  },
  {
   "cell_type": "code",
   "execution_count": 26,
   "metadata": {},
   "outputs": [],
   "source": [
    "def merge_in_place(s, t):\n",
    "    if s is Link.empty:\n",
    "        return t\n",
    "    if t is Link.empty:\n",
    "        return s\n",
    "    if s.first <= t.first:\n",
    "        # return Link(s.first, merge(s.rest, t))\n",
    "        s.rest = merge_in_place(s.rest, t)\n",
    "        return s\n",
    "    t.rest = merge_in_place(s, t.rest)\n",
    "    return t\n",
    "    # return Link(t.first, merge(s, t.rest))"
   ]
  },
  {
   "cell_type": "code",
   "execution_count": null,
   "metadata": {},
   "outputs": [],
   "source": []
  }
 ],
 "metadata": {
  "kernelspec": {
   "display_name": "Python 3",
   "language": "python",
   "name": "python3"
  },
  "language_info": {
   "codemirror_mode": {
    "name": "ipython",
    "version": 3
   },
   "file_extension": ".py",
   "mimetype": "text/x-python",
   "name": "python",
   "nbconvert_exporter": "python",
   "pygments_lexer": "ipython3",
   "version": "3.9.12"
  },
  "orig_nbformat": 4,
  "vscode": {
   "interpreter": {
    "hash": "8f939dc046ae95b61db57b1ddfb635e5199eac9f7bf30422bfd106b8f44dc254"
   }
  }
 },
 "nbformat": 4,
 "nbformat_minor": 2
}
