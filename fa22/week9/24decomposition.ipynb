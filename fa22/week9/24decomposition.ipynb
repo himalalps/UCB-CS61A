{
 "cells": [
  {
   "attachments": {},
   "cell_type": "markdown",
   "metadata": {},
   "source": [
    "# modular design\n",
    "\n",
    "## separation of concerns\n",
    "\n",
    "isolate different parts of a program that address different concerns\n",
    "\n",
    "modular component can be developed and tested independently"
   ]
  },
  {
   "cell_type": "code",
   "execution_count": 3,
   "metadata": {},
   "outputs": [
    {
     "name": "stdout",
     "output_type": "stream",
     "text": [
      "<Thai Basil Cuisine> is similar to [<Gypsy's Trattoria Italiano>, <Top Dog>, <Smart Alec's Intelligent Food>]\n",
      "<Thai Noodle II> is similar to [<La Cascada Taqueria>, <Cafe Milano>, <Chinese Express>]\n",
      "<Jasmine Thai> is similar to [<Hummingbird Cafe>, <La Burrita 2>, <The Stuffed Inn>]\n",
      "<Berkeley Thai House> is similar to [<Smart Alec's Intelligent Food>, <Thai Basil Cuisine>, <Top Dog>]\n",
      "<Viengvilay Thai Cuisine> is similar to [<La Val's Pizza>, <Thai Basil Cuisine>, <La Burrita 2>]\n"
     ]
    }
   ],
   "source": [
    "def search(query, ranking=lambda r: -r.stars):\n",
    "    results = [r for r in Restaurant.all if query in r.name]\n",
    "    return sorted(results, key=ranking)\n",
    "\n",
    "def reviewed_both(r, s):\n",
    "    return fast_overlap(r.reviewers, s.reviewers)\n",
    "    return len([x for x in r.reviewers if x in s.reviewers])\n",
    "\n",
    "def fast_overlap(s, t):\n",
    "    \"\"\"Return the overlap between sorted S and sorted T.\n",
    "\n",
    "    >>> fast_overlap([2, 3, 5, 6, 7], [1, 4, 5, 6, 7, 8])\n",
    "    3\n",
    "    \"\"\"\n",
    "    count, i, j = 0, 0, 0\n",
    "    while i < len(s) and j < len(t):\n",
    "        if s[i] == t[j]:\n",
    "            count, i, j = count + 1, i + 1, j + 1\n",
    "        elif s[i] < t[j]:\n",
    "            i += 1\n",
    "        else:\n",
    "            j += 1\n",
    "    return count\n",
    "\n",
    "class Restaurant:\n",
    "    all = []\n",
    "    def __init__(self, name, stars, reviewers):\n",
    "        self.name, self.stars = name, stars\n",
    "        self.reviewers = sorted(reviewers)\n",
    "        Restaurant.all.append(self)\n",
    "\n",
    "    def similar(self, k, similarity=reviewed_both):\n",
    "        \"\"\"Return the K most similar restaurants to SELF.\"\"\"\n",
    "        others = list(Restaurant.all)\n",
    "        others.remove(self)\n",
    "        return sorted(others, key=lambda x: -similarity(self, x))[:k]\n",
    "\n",
    "    def __repr__(self):\n",
    "        return '<' + self.name + '>'\n",
    "\n",
    "import json\n",
    "\n",
    "reviewers_for_restaurant = {}\n",
    "for line in open('reviews.json'):\n",
    "    r = json.loads(line)\n",
    "    biz = r['business_id']\n",
    "    if biz not in reviewers_for_restaurant:\n",
    "        reviewers_for_restaurant[biz] = [r['user_id']]\n",
    "    else:\n",
    "        reviewers_for_restaurant[biz].append(r['user_id'])\n",
    "\n",
    "for line in open('restaurants.json'):\n",
    "    r = json.loads(line)\n",
    "    reviewers = reviewers_for_restaurant[r['business_id']]\n",
    "    Restaurant(r['name'], r['stars'], reviewers)\n",
    "\n",
    "results = search('Thai')\n",
    "for r in results:\n",
    "    print(r, 'is similar to', r.similar(3))"
   ]
  },
  {
   "cell_type": "code",
   "execution_count": null,
   "metadata": {},
   "outputs": [],
   "source": []
  }
 ],
 "metadata": {
  "kernelspec": {
   "display_name": "Python 3",
   "language": "python",
   "name": "python3"
  },
  "language_info": {
   "codemirror_mode": {
    "name": "ipython",
    "version": 3
   },
   "file_extension": ".py",
   "mimetype": "text/x-python",
   "name": "python",
   "nbconvert_exporter": "python",
   "pygments_lexer": "ipython3",
   "version": "3.9.12"
  },
  "orig_nbformat": 4,
  "vscode": {
   "interpreter": {
    "hash": "8f939dc046ae95b61db57b1ddfb635e5199eac9f7bf30422bfd106b8f44dc254"
   }
  }
 },
 "nbformat": 4,
 "nbformat_minor": 2
}
