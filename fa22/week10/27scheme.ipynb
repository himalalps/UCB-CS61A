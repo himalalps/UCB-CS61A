{
 "cells": [
  {
   "attachments": {},
   "cell_type": "markdown",
   "metadata": {},
   "source": [
    "# Scheme\n",
    "\n",
    "a dialect of Lisp\n",
    "\n",
    "## fundamentals\n",
    "\n",
    "consist of expressions:\n",
    "- primitive expressions - 2, 3.3, true, +, quotient, ...\n",
    "- combinations: (quotient 10 2), (not true)\n",
    "\n",
    "numbers are self-evaluating\n",
    "\n",
    "symbols are bound to values\n",
    "\n",
    "call expressions include an operator and 0 or more operands in parentheses"
   ]
  },
  {
   "attachments": {},
   "cell_type": "markdown",
   "metadata": {},
   "source": [
    "## special forms\n",
    "\n",
    "```scheme\n",
    "(if <predicate> <consequent> <alternative>)\n",
    "(and <e1> ... <en>) (or <e1> ... <en>)\n",
    "(define <symbol> <expression>)\n",
    "(define (<symbol> <formal parameters>) <body>)\n",
    "```"
   ]
  },
  {
   "attachments": {},
   "cell_type": "markdown",
   "metadata": {},
   "source": [
    "```scheme\n",
    "(define (square x) (* x x))\n",
    "(define (average x y)\n",
    "    (/ (+ x y) 2))\n",
    "(define (sqrt x)\n",
    "    (define (update guess)\n",
    "        (if (= (square guess) x)\n",
    "            guess\n",
    "            (update (average guess(/ x guess)))))\n",
    "        (update 1))\n",
    "```"
   ]
  },
  {
   "attachments": {},
   "cell_type": "markdown",
   "metadata": {},
   "source": [
    "## lambda expression\n",
    "\n",
    "```scheme\n",
    "(lambda (<formal-parameters>) <body>)\n",
    "```\n",
    "\n",
    "```scheme\n",
    "; these two are equivalent\n",
    "(define (plus4 x) (+ x 4))\n",
    "(define plus4 (lambda (x) (+ x 4)))\n",
    "```"
   ]
  },
  {
   "attachments": {},
   "cell_type": "markdown",
   "metadata": {},
   "source": [
    "## more special forms\n",
    "\n",
    "### cond\n",
    "\n",
    "behaves like if-elif-else statements in python\n",
    "\n",
    "```scheme\n",
    "; these two are equivalent\n",
    "(cond ((> x 10) (print 'big))\n",
    "    ((> x 5) (print 'medium))\n",
    "    (else (print 'small)))\n",
    "\n",
    "(print\n",
    "    (cond ((> x 10) 'big)\n",
    "    ((> x 5) 'medium)\n",
    "    (else 'small)))\n",
    "```"
   ]
  },
  {
   "attachments": {},
   "cell_type": "markdown",
   "metadata": {},
   "source": [
    "### begin\n",
    "\n",
    "```scheme\n",
    "; these two are equivalent\n",
    "(cond ((> x 10) (begin (print 'big) (print 'guy)))\n",
    "    (else (begin (print 'small) (print 'fry))))\n",
    "\n",
    "(if (> x 10) (begin\n",
    "                (print 'big)\n",
    "                (print 'guy))\n",
    "            (begin\n",
    "                (print 'small)\n",
    "                (print 'fry)))\n",
    "```"
   ]
  },
  {
   "attachments": {},
   "cell_type": "markdown",
   "metadata": {},
   "source": [
    "## let\n",
    "\n",
    "bind symbols to value temporarily just for one expression\n",
    "\n",
    "```python\n",
    "a = 3\n",
    "b = 2 + 2\n",
    "c = math.sqrt(a * a + b * b)\n",
    "# a and b are bound here\n",
    "```\n",
    "\n",
    "```scheme\n",
    "(define c (let ((a 3)\n",
    "                (b (+ 2 2)))\n",
    "                (sqrt (+ (* a a) (* b b)))))\n",
    "; a and b are not bound here\n",
    "```"
   ]
  },
  {
   "cell_type": "markdown",
   "metadata": {},
   "source": []
  }
 ],
 "metadata": {
  "language_info": {
   "name": "python"
  },
  "orig_nbformat": 4
 },
 "nbformat": 4,
 "nbformat_minor": 2
}
