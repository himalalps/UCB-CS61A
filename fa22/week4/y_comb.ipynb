{
 "cells": [
  {
   "cell_type": "code",
   "execution_count": 1,
   "metadata": {},
   "outputs": [],
   "source": [
    "def xxx():\n",
    "    return (lambda f: lambda n: f(f, n))(lambda f, n: 1 if n == 1 else n * f(f, n - 1))"
   ]
  },
  {
   "cell_type": "code",
   "execution_count": 2,
   "metadata": {},
   "outputs": [
    {
     "data": {
      "text/plain": [
       "120"
      ]
     },
     "execution_count": 2,
     "metadata": {},
     "output_type": "execute_result"
    }
   ],
   "source": [
    "xxx()(5)"
   ]
  },
  {
   "cell_type": "code",
   "execution_count": 3,
   "metadata": {},
   "outputs": [],
   "source": [
    "def Y(f):\n",
    "    return f(lambda: Y(f))"
   ]
  },
  {
   "cell_type": "code",
   "execution_count": 4,
   "metadata": {},
   "outputs": [],
   "source": [
    "from operator import sub, mul\n",
    "\n",
    "def Y(f):\n",
    "    \"\"\"The Y (\"paradoxical\") combinator.\"\"\"\n",
    "    return f(lambda: Y(f))\n",
    "\n",
    "def Y_tester():\n",
    "    \"\"\"\n",
    "    >>> tmp = Y_tester()\n",
    "    >>> tmp(1)\n",
    "    1\n",
    "    >>> tmp(5)\n",
    "    120\n",
    "    >>> tmp(2)\n",
    "    2\n",
    "    \"\"\"\n",
    "    return Y(lambda g: lambda n: 1 if n == 0 else n * g()(n - 1))  # Replace "
   ]
  },
  {
   "cell_type": "code",
   "execution_count": 5,
   "metadata": {},
   "outputs": [
    {
     "data": {
      "text/plain": [
       "120"
      ]
     },
     "execution_count": 5,
     "metadata": {},
     "output_type": "execute_result"
    }
   ],
   "source": [
    "Y_tester()(5)"
   ]
  }
 ],
 "metadata": {
  "kernelspec": {
   "display_name": "Python 3",
   "language": "python",
   "name": "python3"
  },
  "language_info": {
   "codemirror_mode": {
    "name": "ipython",
    "version": 3
   },
   "file_extension": ".py",
   "mimetype": "text/x-python",
   "name": "python",
   "nbconvert_exporter": "python",
   "pygments_lexer": "ipython3",
   "version": "3.9.12"
  },
  "orig_nbformat": 4,
  "vscode": {
   "interpreter": {
    "hash": "8f939dc046ae95b61db57b1ddfb635e5199eac9f7bf30422bfd106b8f44dc254"
   }
  }
 },
 "nbformat": 4,
 "nbformat_minor": 2
}
