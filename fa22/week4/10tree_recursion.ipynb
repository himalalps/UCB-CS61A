{
 "cells": [
  {
   "attachments": {},
   "cell_type": "markdown",
   "metadata": {},
   "source": [
    "# order of recursive calls"
   ]
  },
  {
   "cell_type": "code",
   "execution_count": 2,
   "metadata": {},
   "outputs": [],
   "source": [
    "def cascade(n):\n",
    "    if n < 10:\n",
    "        print(n)\n",
    "    else:\n",
    "        print(n)\n",
    "        cascade(n // 10)\n",
    "        print(n)"
   ]
  },
  {
   "cell_type": "code",
   "execution_count": 3,
   "metadata": {},
   "outputs": [
    {
     "name": "stdout",
     "output_type": "stream",
     "text": [
      "12345\n",
      "1234\n",
      "123\n",
      "12\n",
      "1\n",
      "12\n",
      "123\n",
      "1234\n",
      "12345\n"
     ]
    }
   ],
   "source": [
    "cascade(12345)"
   ]
  },
  {
   "cell_type": "code",
   "execution_count": 4,
   "metadata": {},
   "outputs": [],
   "source": [
    "def cascade(n):\n",
    "    print(n)\n",
    "    if n > 10:\n",
    "        cascade(n // 10)\n",
    "        print(n)"
   ]
  },
  {
   "cell_type": "code",
   "execution_count": 5,
   "metadata": {},
   "outputs": [
    {
     "name": "stdout",
     "output_type": "stream",
     "text": [
      "12345\n",
      "1234\n",
      "123\n",
      "12\n",
      "1\n",
      "12\n",
      "123\n",
      "1234\n",
      "12345\n"
     ]
    }
   ],
   "source": [
    "cascade(12345)"
   ]
  },
  {
   "attachments": {},
   "cell_type": "markdown",
   "metadata": {},
   "source": [
    "if two implementations are equally clear then shorter is usually better"
   ]
  },
  {
   "cell_type": "code",
   "execution_count": 6,
   "metadata": {},
   "outputs": [],
   "source": [
    "def in_cascade(n):\n",
    "    grow(n)\n",
    "    print(n)\n",
    "    shrink(n)\n",
    "\n",
    "def f_then_g(f, g, n):\n",
    "    if n:\n",
    "        f(n)\n",
    "        g(n)\n",
    "\n",
    "grow = lambda n: f_then_g(grow, print, n // 10)\n",
    "shrink = lambda n: f_then_g(print, shrink, n // 10)"
   ]
  },
  {
   "cell_type": "code",
   "execution_count": 7,
   "metadata": {},
   "outputs": [
    {
     "name": "stdout",
     "output_type": "stream",
     "text": [
      "1\n",
      "12\n",
      "123\n",
      "1234\n",
      "123\n",
      "12\n",
      "1\n"
     ]
    }
   ],
   "source": [
    "in_cascade(1234)"
   ]
  },
  {
   "attachments": {},
   "cell_type": "markdown",
   "metadata": {},
   "source": [
    "## tree recursion\n",
    "\n",
    "tree-shaped processed arise whenever executing the body of a recursive function makes more than one call to that function"
   ]
  },
  {
   "cell_type": "code",
   "execution_count": 25,
   "metadata": {},
   "outputs": [],
   "source": [
    "def fib(n):\n",
    "    if n == 0:\n",
    "        return 0\n",
    "    elif n == 1:\n",
    "        return 1\n",
    "    else:\n",
    "        return fib(n - 1) + fib(n - 2)"
   ]
  },
  {
   "cell_type": "code",
   "execution_count": 9,
   "metadata": {},
   "outputs": [
    {
     "data": {
      "text/plain": [
       "0"
      ]
     },
     "execution_count": 9,
     "metadata": {},
     "output_type": "execute_result"
    }
   ],
   "source": [
    "fib(0)"
   ]
  },
  {
   "cell_type": "code",
   "execution_count": 10,
   "metadata": {},
   "outputs": [
    {
     "data": {
      "text/plain": [
       "1"
      ]
     },
     "execution_count": 10,
     "metadata": {},
     "output_type": "execute_result"
    }
   ],
   "source": [
    "fib(1)"
   ]
  },
  {
   "cell_type": "code",
   "execution_count": 11,
   "metadata": {},
   "outputs": [
    {
     "data": {
      "text/plain": [
       "21"
      ]
     },
     "execution_count": 11,
     "metadata": {},
     "output_type": "execute_result"
    }
   ],
   "source": [
    "fib(8)"
   ]
  },
  {
   "cell_type": "code",
   "execution_count": 12,
   "metadata": {},
   "outputs": [
    {
     "data": {
      "text/plain": [
       "832040"
      ]
     },
     "execution_count": 12,
     "metadata": {},
     "output_type": "execute_result"
    }
   ],
   "source": [
    "fib(30)"
   ]
  },
  {
   "cell_type": "code",
   "execution_count": 13,
   "metadata": {},
   "outputs": [
    {
     "data": {
      "text/plain": [
       "9227465"
      ]
     },
     "execution_count": 13,
     "metadata": {},
     "output_type": "execute_result"
    }
   ],
   "source": [
    "fib(35)"
   ]
  },
  {
   "cell_type": "code",
   "execution_count": 24,
   "metadata": {},
   "outputs": [],
   "source": [
    "import re\n",
    "import functools\n",
    "\n",
    "_PREFIX = ''\n",
    "\n",
    "def log(message):\n",
    "    \"\"\"Print an indented message (used with trace).\"\"\"\n",
    "    print(_PREFIX + re.sub('\\n', '\\n' + _PREFIX, str(message)))\n",
    "\n",
    "def trace(fn):\n",
    "    \"\"\"A decorator that prints a function's name, its arguments, and its return\n",
    "    values each time the function is called. For example,\n",
    "\n",
    "    @trace\n",
    "    def compute_something(x, y):\n",
    "        # function body\n",
    "    \"\"\"\n",
    "    @functools.wraps(fn)\n",
    "    def wrapped(*args, **kwds):\n",
    "        global _PREFIX\n",
    "        reprs = [repr(e) for e in args]\n",
    "        reprs += [repr(k) + '=' + repr(v) for k, v in kwds.items()]\n",
    "        log('{0}({1})'.format(fn.__name__, ', '.join(reprs)) + ':')\n",
    "        _PREFIX += '    '\n",
    "        try:\n",
    "            result = fn(*args, **kwds)\n",
    "            _PREFIX = _PREFIX[:-4]\n",
    "        except Exception as e:\n",
    "            log(fn.__name__ + ' exited via exception')\n",
    "            _PREFIX = _PREFIX[:-4]\n",
    "            raise\n",
    "        # Here, print out the return value.\n",
    "        log('{0}({1}) -> {2}'.format(fn.__name__, ', '.join(reprs), result))\n",
    "        return result\n",
    "    return wrapped"
   ]
  },
  {
   "cell_type": "code",
   "execution_count": 26,
   "metadata": {},
   "outputs": [],
   "source": [
    "fib = trace(fib)"
   ]
  },
  {
   "cell_type": "code",
   "execution_count": 27,
   "metadata": {},
   "outputs": [
    {
     "name": "stdout",
     "output_type": "stream",
     "text": [
      "fib(5):\n",
      "    fib(4):\n",
      "        fib(3):\n",
      "            fib(2):\n",
      "                fib(1):\n",
      "                fib(1) -> 1\n",
      "                fib(0):\n",
      "                fib(0) -> 0\n",
      "            fib(2) -> 1\n",
      "            fib(1):\n",
      "            fib(1) -> 1\n",
      "        fib(3) -> 2\n",
      "        fib(2):\n",
      "            fib(1):\n",
      "            fib(1) -> 1\n",
      "            fib(0):\n",
      "            fib(0) -> 0\n",
      "        fib(2) -> 1\n",
      "    fib(4) -> 3\n",
      "    fib(3):\n",
      "        fib(2):\n",
      "            fib(1):\n",
      "            fib(1) -> 1\n",
      "            fib(0):\n",
      "            fib(0) -> 0\n",
      "        fib(2) -> 1\n",
      "        fib(1):\n",
      "        fib(1) -> 1\n",
      "    fib(3) -> 2\n",
      "fib(5) -> 5\n"
     ]
    },
    {
     "data": {
      "text/plain": [
       "5"
      ]
     },
     "execution_count": 27,
     "metadata": {},
     "output_type": "execute_result"
    }
   ],
   "source": [
    "fib(5)"
   ]
  },
  {
   "attachments": {},
   "cell_type": "markdown",
   "metadata": {},
   "source": [
    "## repetition in tree-recursive computation"
   ]
  },
  {
   "cell_type": "code",
   "execution_count": 28,
   "metadata": {},
   "outputs": [],
   "source": [
    "def count_partition(n, m):\n",
    "    if n == 0:\n",
    "        return 1\n",
    "    elif n < 0:\n",
    "        return 0\n",
    "    elif m == 0:\n",
    "        return 0\n",
    "    else:\n",
    "        return count_partition(n - m, m) + count_partition(n, m - 1)\n"
   ]
  },
  {
   "cell_type": "code",
   "execution_count": 29,
   "metadata": {},
   "outputs": [
    {
     "data": {
      "text/plain": [
       "5"
      ]
     },
     "execution_count": 29,
     "metadata": {},
     "output_type": "execute_result"
    }
   ],
   "source": [
    "count_partition(5, 3)"
   ]
  },
  {
   "cell_type": "code",
   "execution_count": null,
   "metadata": {},
   "outputs": [],
   "source": []
  }
 ],
 "metadata": {
  "kernelspec": {
   "display_name": "Python 3",
   "language": "python",
   "name": "python3"
  },
  "language_info": {
   "codemirror_mode": {
    "name": "ipython",
    "version": 3
   },
   "file_extension": ".py",
   "mimetype": "text/x-python",
   "name": "python",
   "nbconvert_exporter": "python",
   "pygments_lexer": "ipython3",
   "version": "3.9.12"
  },
  "orig_nbformat": 4,
  "vscode": {
   "interpreter": {
    "hash": "8f939dc046ae95b61db57b1ddfb635e5199eac9f7bf30422bfd106b8f44dc254"
   }
  }
 },
 "nbformat": 4,
 "nbformat_minor": 2
}
