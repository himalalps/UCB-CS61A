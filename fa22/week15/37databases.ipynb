{
 "cells": [
  {
   "attachments": {},
   "cell_type": "markdown",
   "metadata": {},
   "source": [
    "# create table and drop table\n",
    "\n",
    "```SQL\n",
    "create table numbers (n, note);\n",
    "create table numbers (n UNIQUE, note);\n",
    "create table numbers (n, note DEFAULT \"No comment\");\n",
    "```\n",
    "\n",
    "```SQL\n",
    "drop table if exists [name];\n",
    "```"
   ]
  },
  {
   "attachments": {},
   "cell_type": "markdown",
   "metadata": {},
   "source": [
    "# modify the table\n",
    "\n",
    "```SQL\n",
    "insert into [name] ([columns]) values ([expr]);\n",
    "insert into [name] ([columns]) [select statement];\n",
    "```\n",
    "\n",
    "```SQL\n",
    "create table primes (n, prime);\n",
    "drop table if exists primes;\n",
    "create table primes (n UNIQUE, prime DEFAULT 1);\n",
    "INSERT INTO primes VALUES (2, 1), (3, 1);\n",
    "INSERT INTO primes(n) SELECT n+12 FROM primes;\n",
    "```"
   ]
  },
  {
   "attachments": {},
   "cell_type": "markdown",
   "metadata": {},
   "source": [
    "# update\n",
    "\n",
    "```SQL\n",
    "update primes set prime = 0 where n > 2 and n % 2 = 0;\n",
    "update primes set prime = 0 where n > 2 and n % 3 = 0;\n",
    "update primes set prime = 0 where n > 2 and n % 5 = 0;\n",
    "```\n",
    "\n",
    "# delete\n",
    "\n",
    "```SQL\n",
    "delete primes where prime = 0;\n",
    "```"
   ]
  },
  {
   "attachments": {},
   "cell_type": "markdown",
   "metadata": {},
   "source": [
    "# python and SQL"
   ]
  },
  {
   "cell_type": "code",
   "execution_count": 1,
   "metadata": {},
   "outputs": [
    {
     "name": "stdout",
     "output_type": "stream",
     "text": [
      "[(2,), (3,), (4,), (5,), (6,)]\n"
     ]
    }
   ],
   "source": [
    "import sqlite3\n",
    "\n",
    "db = sqlite3.Connection(\"n.db\")\n",
    "db.execute(\"CREATE TABLE nums AS SELECT 2 UNION SELECT 3;\")\n",
    "db.execute(\"INSERT INTO nums VALUES (?), (?), (?);\", range(4, 7))\n",
    "print(db.execute(\"SELECT * FROM nums;\").fetchall())\n",
    "db.commit()"
   ]
  },
  {
   "attachments": {},
   "cell_type": "markdown",
   "metadata": {},
   "source": [
    "# database connections"
   ]
  },
  {
   "cell_type": "code",
   "execution_count": null,
   "metadata": {},
   "outputs": [],
   "source": [
    "import random\n",
    "import readline\n",
    "\n",
    "points = {'A': 1, 'J': 10, 'Q': 10, 'K':10}\n",
    "points.update({n: n for n in range(2, 11)})\n",
    "\n",
    "def hand_score(hand):\n",
    "    \"\"\"Total score for a hand.\"\"\"\n",
    "    total = sum([points[card] for card in hand])\n",
    "    if total <= 11 and 'A' in hand:\n",
    "        return total + 10\n",
    "    return total\n",
    "\n",
    "db = sqlite3.Connection('cards.db')\n",
    "sql = db.execute\n",
    "sql('DROP TABLE IF EXISTS cards')\n",
    "sql('CREATE TABLE cards(card, place);')\n",
    "\n",
    "def play(card, place):\n",
    "    \"\"\"Play a card so that the player can see it.\"\"\"\n",
    "    sql('INSERT INTO cards VALUES (?, ?)', (card, place))\n",
    "    db.commit()\n",
    "\n",
    "def score(who):\n",
    "    \"\"\"Compute the hand score for the player or dealer.\"\"\"\n",
    "    cards = sql('SELECT * from cards where place = ?;', [who])\n",
    "    return hand_score([card for card, place in cards.fetchall()])\n",
    "\n",
    "def bust(who):\n",
    "    \"\"\"Check if the player or dealer went bust.\"\"\"\n",
    "    return score(who) > 21\n",
    "\n",
    "player, dealer = \"Player\", \"Dealer\"\n",
    "\n",
    "def play_hand(deck):\n",
    "    \"\"\"Play a hand of Blackjack.\"\"\"\n",
    "    play(deck.pop(), player)\n",
    "    play(deck.pop(), dealer)\n",
    "    play(deck.pop(), player)\n",
    "    hidden = deck.pop()\n",
    "\n",
    "    while 'y' in input(\"Hit? \").lower():\n",
    "        play(deck.pop(), player)\n",
    "        if bust(player):\n",
    "            print(player, \"went bust!\")\n",
    "            return\n",
    "\n",
    "    play(hidden, dealer)\n",
    "\n",
    "    while score(dealer) < 17:\n",
    "        play(deck.pop(), dealer)\n",
    "        if bust(dealer):\n",
    "            print(dealer, \"went bust!\")\n",
    "            return\n",
    "\n",
    "    print(player, score(player), \"and\", dealer, score(dealer))\n",
    "\n",
    "deck = list(points.keys()) * 4\n",
    "random.shuffle(deck)\n",
    "while len(deck) > 10:\n",
    "    print('\\nDealing...')\n",
    "    play_hand(deck)\n",
    "    sql('UPDATE cards SET place=\"Discard\";')\n"
   ]
  },
  {
   "attachments": {},
   "cell_type": "markdown",
   "metadata": {},
   "source": [
    "```SQL\n",
    "SELECT * FROM cards;`\n",
    "SELECT * FROM cards WHERE place != \"Discard\";\n",
    "SELECT card, count(*) FROM cards GROUP BY card;\n",
    "UPDATE cards SET card=\"A\" WHERE card=6 AND place=\"Player\";\n",
    "```"
   ]
  }
 ],
 "metadata": {
  "kernelspec": {
   "display_name": "Python 3",
   "language": "python",
   "name": "python3"
  },
  "language_info": {
   "codemirror_mode": {
    "name": "ipython",
    "version": 3
   },
   "file_extension": ".py",
   "mimetype": "text/x-python",
   "name": "python",
   "nbconvert_exporter": "python",
   "pygments_lexer": "ipython3",
   "version": "3.9.12"
  },
  "orig_nbformat": 4,
  "vscode": {
   "interpreter": {
    "hash": "8f939dc046ae95b61db57b1ddfb635e5199eac9f7bf30422bfd106b8f44dc254"
   }
  }
 },
 "nbformat": 4,
 "nbformat_minor": 2
}
