{
 "cells": [
  {
   "cell_type": "code",
   "execution_count": 1,
   "metadata": {},
   "outputs": [],
   "source": [
    "class Tree:\n",
    "    def __init__(self, label, branches=[]):\n",
    "        for branch in branches:\n",
    "            assert isinstance(branch, Tree)\n",
    "        self.label = label\n",
    "        self.branches = branches\n",
    "\n",
    "    def is_leaf(self):\n",
    "        return not self.branches"
   ]
  },
  {
   "cell_type": "code",
   "execution_count": 2,
   "metadata": {},
   "outputs": [],
   "source": [
    "def bigs(t):\n",
    "    \"\"\"Return the number of nodes in t that are larger than all their ancestors.\n",
    "\n",
    "    >>> p = Tree(1, [Tree(4, [Tree(4), Tree(5)]), Tree(3, [Tree(0, [Tree(6)])])])\n",
    "    >>> bigs(p)\n",
    "    5\n",
    "    >>> q = Tree(1, [Tree(4, [Tree(4), Tree(5)]), Tree(3, [Tree(0, [Tree(2)])])])\n",
    "    >>> bigs(q)\n",
    "    4\n",
    "    \"\"\"\n",
    "    def f(a, x):\n",
    "        if a.label > x:\n",
    "            return 1 + sum([f(b, a.label) for b in a.branches])\n",
    "        else:\n",
    "            return sum([f(b, x) for b in a.branches])\n",
    "    return f(t, t.label - 1)"
   ]
  },
  {
   "cell_type": "code",
   "execution_count": 3,
   "metadata": {},
   "outputs": [],
   "source": [
    "def bigs_mutation(t):\n",
    "    \"\"\"Return the number of nodes in t that are larger than all their ancestors.\n",
    "\n",
    "    >>> p = Tree(1, [Tree(4, [Tree(4), Tree(5)]), Tree(3, [Tree(0, [Tree(6)])])])\n",
    "    >>> bigs_mutation(p)\n",
    "    5\n",
    "    >>> q = Tree(1, [Tree(4, [Tree(4), Tree(5)]), Tree(3, [Tree(0, [Tree(2)])])])\n",
    "    >>> bigs_mutation(q)\n",
    "    4\n",
    "    \"\"\"\n",
    "    n = [0]\n",
    "    def f(a, x):\n",
    "        if a.label > x:\n",
    "            n[0] += 1\n",
    "        for b in a.branches:\n",
    "            f(b, max(a.label, x))\n",
    "    f(t, t.label - 1)\n",
    "    return n[0]"
   ]
  },
  {
   "cell_type": "code",
   "execution_count": 4,
   "metadata": {},
   "outputs": [],
   "source": [
    "def smalls(t):\n",
    "    \"\"\"Return the non-leaf nodes in t that are smaller than all their descendants.\n",
    "\n",
    "    >>> a = Tree(1, [Tree(2, [Tree(4), Tree(5)]), Tree(3, [Tree(0, [Tree(6)])])])\n",
    "    >>> sorted([t.label for t in smalls(a)])\n",
    "    [0, 2]\n",
    "    \"\"\"\n",
    "    result = []\n",
    "    def process(t):\n",
    "        # (a Tree t) -> (the smallest value within t)\n",
    "        # side-effect: perhaps add t to result\n",
    "        if t.is_leaf():\n",
    "            return t.label\n",
    "        else:\n",
    "            smallest = min([process(b) for b in t.branches])\n",
    "            if t.label < smallest:\n",
    "                result.append(t)\n",
    "            return min(smallest, t.label)\n",
    "    process(t)\n",
    "    return result"
   ]
  },
  {
   "attachments": {},
   "cell_type": "markdown",
   "metadata": {},
   "source": [
    "# how to design programs\n",
    "\n",
    "1. from problem analysis to data definition\n",
    "2. signature, purpose statement, header\n",
    "3. functional examples\n",
    "4. function template\n",
    "5. function definition\n",
    "6. testing\n",
    "\n",
    "**example-driven**"
   ]
  }
 ],
 "metadata": {
  "kernelspec": {
   "display_name": "Python 3",
   "language": "python",
   "name": "python3"
  },
  "language_info": {
   "codemirror_mode": {
    "name": "ipython",
    "version": 3
   },
   "file_extension": ".py",
   "mimetype": "text/x-python",
   "name": "python",
   "nbconvert_exporter": "python",
   "pygments_lexer": "ipython3",
   "version": "3.9.12"
  },
  "orig_nbformat": 4,
  "vscode": {
   "interpreter": {
    "hash": "8f939dc046ae95b61db57b1ddfb635e5199eac9f7bf30422bfd106b8f44dc254"
   }
  }
 },
 "nbformat": 4,
 "nbformat_minor": 2
}
