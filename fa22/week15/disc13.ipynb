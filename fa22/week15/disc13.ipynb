{
 "cells": [
  {
   "attachments": {},
   "cell_type": "markdown",
   "metadata": {},
   "source": [
    "# Q1: paths list"
   ]
  },
  {
   "cell_type": "code",
   "execution_count": 1,
   "metadata": {},
   "outputs": [],
   "source": [
    "def paths(x, y):\n",
    "    \"\"\"Return a list of ways to reach y from x by repeated\n",
    "    incrementing or doubling.\n",
    "    >>> paths(3, 5)\n",
    "    [[3, 4, 5]]\n",
    "    >>> sorted(paths(3, 6))\n",
    "    [[3, 4, 5, 6], [3, 6]]\n",
    "    >>> sorted(paths(3, 9))\n",
    "    [[3, 4, 5, 6, 7, 8, 9], [3, 4, 8, 9], [3, 6, 7, 8, 9]]\n",
    "    >>> paths(3, 3) # No calls is a valid path\n",
    "    [[3]]\n",
    "    >>> paths(5, 3) # There is no valid path from x to y\n",
    "    []\n",
    "    \"\"\"\n",
    "    if x == y:\n",
    "        return [[x]]\n",
    "    elif x > y:\n",
    "        return []\n",
    "    else:\n",
    "        a = paths(x + 1, y)\n",
    "        b = paths(x * 2, y)\n",
    "        return [[x] + z for z in a] + [[x] + z for z in b]"
   ]
  },
  {
   "attachments": {},
   "cell_type": "markdown",
   "metadata": {},
   "source": [
    "# Q2: reverse"
   ]
  },
  {
   "cell_type": "code",
   "execution_count": 2,
   "metadata": {},
   "outputs": [],
   "source": [
    "def reverse(lst):\n",
    "    \"\"\"Reverses lst using mutation.\n",
    "\n",
    "    >>> original_list = [5, -1, 29, 0]\n",
    "    >>> reverse(original_list)\n",
    "    >>> original_list\n",
    "    [0, 29, -1, 5]\n",
    "    >>> odd_list = [42, 72, -8]\n",
    "    >>> reverse(odd_list)\n",
    "    >>> odd_list\n",
    "    [-8, 72, 42]\n",
    "    \"\"\"\n",
    "    def reverse_helper(lst, res):\n",
    "        if len(lst) == 0:\n",
    "            return res\n",
    "        res.insert(0, lst[0])\n",
    "        return reverse_helper(lst[1:], res)\n",
    "    res = reverse_helper(lst, [])\n",
    "    for i in range(len(res)):\n",
    "        lst[i] = res[i]"
   ]
  },
  {
   "attachments": {},
   "cell_type": "markdown",
   "metadata": {},
   "source": [
    "# Q3: widest level"
   ]
  },
  {
   "cell_type": "code",
   "execution_count": 3,
   "metadata": {},
   "outputs": [],
   "source": [
    "def widest_level(t):\n",
    "    \"\"\"\n",
    "    >>> sum([[1], [2]], [])\n",
    "    [1, 2]\n",
    "    >>> t = Tree(3, [Tree(1, [Tree(1), Tree(5)]),\n",
    "    ...              Tree(4, [Tree(9, [Tree(2)])])])\n",
    "    >>> widest_level(t)\n",
    "    [1, 5, 9]\n",
    "    \"\"\"\n",
    "    levels = []\n",
    "    x = [t]\n",
    "    while x:\n",
    "         levels.append([t.label for t in x])\n",
    "         x = sum([t.branches for t in x], [])\n",
    "    return max(levels, key=len)"
   ]
  },
  {
   "attachments": {},
   "cell_type": "markdown",
   "metadata": {},
   "source": [
    "# Q4: in-order traversal"
   ]
  },
  {
   "cell_type": "code",
   "execution_count": 4,
   "metadata": {},
   "outputs": [],
   "source": [
    "def in_order_traversal(t):\n",
    "    \"\"\"\n",
    "    Generator function that generates an \"in-order\" traversal, in which we\n",
    "    yield the value of every node in order from left to right, assuming that each node has either 0 or 2 branches.\n",
    "\n",
    "    For example, take the following tree t:\n",
    "            1\n",
    "        2       3\n",
    "    4     5\n",
    "         6  7\n",
    "\n",
    "    We have the in-order-traversal 4, 2, 6, 5, 7, 1, 3\n",
    "\n",
    "    >>> t = Tree(1, [Tree(2, [Tree(4), Tree(5, [Tree(6), Tree(7)])]), Tree(3)])\n",
    "    >>> list(in_order_traversal(t))\n",
    "    [4, 2, 6, 5, 7, 1, 3]\n",
    "    \"\"\"\n",
    "    if is_leaf(t):\n",
    "        return [t.label]\n",
    "    return in_order_traversal(t.branches[0]) + [t.label] + in_order_traversal(t.branches[1])"
   ]
  },
  {
   "attachments": {},
   "cell_type": "markdown",
   "metadata": {},
   "source": [
    "# Q5: deep map"
   ]
  },
  {
   "cell_type": "code",
   "execution_count": 5,
   "metadata": {},
   "outputs": [],
   "source": [
    "def deep_map(f, link):\n",
    "    \"\"\"Return a Link with the same structure as link but with fn mapped over\n",
    "    its elements. If an element is an instance of a linked list, recursively\n",
    "    apply f inside that linked list as well.\n",
    "\n",
    "    >>> s = Link(1, Link(Link(2, Link(3)), Link(4)))\n",
    "    >>> print(deep_map(lambda x: x * x, s))\n",
    "    <1 <4 9> 16>\n",
    "    >>> print(s) # unchanged\n",
    "    <1 <2 3> 4>\n",
    "    >>> print(deep_map(lambda x: 2 * x, Link(s, Link(Link(Link(5))))))\n",
    "    <<2 <4 6> 8> <<10>>>\n",
    "    \"\"\"\n",
    "    if isinstance(link, Link):\n",
    "        return Link(deep_map(f, link.first), deep_map(f, link.rest))\n",
    "    elif link is Link.empty:\n",
    "        return Link.empty\n",
    "    else:\n",
    "        return f(link)"
   ]
  },
  {
   "attachments": {},
   "cell_type": "markdown",
   "metadata": {},
   "source": [
    "# Q6: repeated"
   ]
  },
  {
   "cell_type": "code",
   "execution_count": 6,
   "metadata": {},
   "outputs": [],
   "source": [
    "def repeated(f):\n",
    "    \"\"\"\n",
    "    >>> double = lambda x: 2 * x\n",
    "    >>> funcs = repeated(double)\n",
    "    >>> identity = next(funcs)\n",
    "    >>> double = next(funcs)\n",
    "    >>> quad = next(funcs)\n",
    "    >>> octo = next(funcs)\n",
    "    >>> quad(1)\n",
    "    4\n",
    "    >>> octo(1)\n",
    "    8\n",
    "    >>> [g(1) for _, g in\n",
    "    ...  zip(range(5), repeated(lambda x: 2 * x))]\n",
    "    [1, 2, 4, 8, 16]\n",
    "    \"\"\"\n",
    "\n",
    "    g = lambda x: x\n",
    "    while True:\n",
    "        yield g\n",
    "        g = (lambda g: lambda x: f(g(x)))(g)"
   ]
  },
  {
   "attachments": {},
   "cell_type": "markdown",
   "metadata": {},
   "source": [
    "# Q7: group by non-decreasing\n",
    "\n",
    "```scheme\n",
    "(define (nondecreaselist s)\n",
    "    (if (null? s)\n",
    "        nil\n",
    "        (let ((rest (nondecreaselist (cdr s))))\n",
    "            (if (or (null? (cdr s)) (> (car s) (car (cdr s))))\n",
    "                (cons (cons (car s) nil) rest)\n",
    "                (cons (cons (car s) (car rest)) (cdr rest))\n",
    "            )\n",
    "        )\n",
    "    )\n",
    ")\n",
    "```"
   ]
  },
  {
   "attachments": {},
   "cell_type": "markdown",
   "metadata": {},
   "source": [
    "# Q8: or with multiple args\n",
    "\n",
    "```scheme\n",
    "(define (make-long-or args)\n",
    "    (if (null? args) false\n",
    "        `(let ((v ,(car args)))\n",
    "              (if v v\n",
    "                  ,(make-long-or (cdr args))))))\n",
    "```"
   ]
  },
  {
   "attachments": {},
   "cell_type": "markdown",
   "metadata": {},
   "source": [
    "# Q9: oliver emplyee meetings\n",
    "\n",
    "```SQL\n",
    "SELECT a.day, a.time FROM meetings AS a, records AS b \n",
    "    WHERE a.division = b.division AND b.supervisor = \"Oliver Warbucks\";\n",
    "```"
   ]
  },
  {
   "attachments": {},
   "cell_type": "markdown",
   "metadata": {},
   "source": [
    "# Q10: different division\n",
    "\n",
    "```SQL\n",
    "SELECT e.name FROM records AS e, records AS s\n",
    "    WHERE e.supervisor = s.name AND e.division <> s.division;\n",
    "```"
   ]
  }
 ],
 "metadata": {
  "kernelspec": {
   "display_name": "Python 3",
   "language": "python",
   "name": "python3"
  },
  "language_info": {
   "codemirror_mode": {
    "name": "ipython",
    "version": 3
   },
   "file_extension": ".py",
   "mimetype": "text/x-python",
   "name": "python",
   "nbconvert_exporter": "python",
   "pygments_lexer": "ipython3",
   "version": "3.9.12"
  },
  "orig_nbformat": 4,
  "vscode": {
   "interpreter": {
    "hash": "8f939dc046ae95b61db57b1ddfb635e5199eac9f7bf30422bfd106b8f44dc254"
   }
  }
 },
 "nbformat": 4,
 "nbformat_minor": 2
}
