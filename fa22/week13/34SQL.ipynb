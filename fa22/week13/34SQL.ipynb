{
 "cells": [
  {
   "attachments": {},
   "cell_type": "markdown",
   "metadata": {},
   "source": [
    "# database\n",
    "\n",
    "database management systems are important, heavily used, and interesting\n",
    "\n",
    "table is a collection of recors, which are rows that have a value for each column\n",
    "\n",
    "- **declarative language**(SQL, prolog)\n",
    "  - description of the desired result\n",
    "  - interpreter figures out how to generate the result\n",
    "- **imperative language**(python, scheme)\n",
    "  - description of computational processes\n",
    "  - interpreter carries out execution/evaluation rules"
   ]
  },
  {
   "attachments": {},
   "cell_type": "markdown",
   "metadata": {},
   "source": [
    "```SQL\n",
    "creat table cities as\n",
    "    select 38 as latitude, 122 as longitude, \"Berkeley\" as name union\n",
    "    select 42,              71,             \"Cambridge\"         union\n",
    "    select 45,              93,             \"Minneapolis\";\n",
    "    \n",
    "select \"west coast\" as region, name from cities where longitude >= 115 union\n",
    "select \"other\",                 name from cities where longitude <  115;\n",
    "```\n",
    "    "
   ]
  },
  {
   "attachments": {},
   "cell_type": "markdown",
   "metadata": {},
   "source": [
    "# structured query language\n",
    "\n",
    "the SQL language is an ANSI and ISO standard, but DBMS's implement custom variants\n",
    "\n",
    "- `select` statement creates a new table, either from scratch or by projecting a table\n",
    "- `create table` gives a global name to a table\n",
    "\n",
    "`select` statement includes a comma-separated list of column descriptions\n",
    "\n",
    "```SQL\n",
    "select [expressions] as [name], [expression] as [name];\n",
    "```\n",
    "\n",
    "selecting literals creates a one-row table\n",
    "\n",
    "union of two select statement is a table containing the rows of both of their results\n",
    "\n",
    "```SQL\n",
    "select \"abraham\" as parent, \"barack\" as child union\n",
    "select \"abraham\",           \"clinton\"           union\n",
    "select \"delano\",            \"herbert\"           union\n",
    "select \"fillmore\",          \"abraham\"           union\n",
    "select \"fillmore\",          \"delano\"            union\n",
    "select \"fillmore\",          \"grover\"            union\n",
    "select \"eisenhower\",        \"fillmore\";\n",
    "```\n",
    "\n",
    "SQL is often used as an interactive language, so result of a `select` statement is displayed to the user, but not stored\n",
    "\n",
    "`create table` statement gives the result a name\n",
    "\n",
    "```SQL\n",
    "create table [name] as [select name]\n",
    "```\n",
    "\n",
    "```SQL\n",
    "create table parents as\n",
    "    select \"abraham\" as parent, \"barack\" as child union\n",
    "    select \"abraham\",           \"clinton\"           union\n",
    "    select \"delano\",            \"herbert\"           union\n",
    "    select \"fillmore\",          \"abraham\"           union\n",
    "    select \"fillmore\",          \"delano\"            union\n",
    "    select \"fillmore\",          \"grover\"            union\n",
    "    select \"eisenhower\",        \"fillmore\";\n",
    "```"
   ]
  },
  {
   "attachments": {},
   "cell_type": "markdown",
   "metadata": {},
   "source": [
    "# projecting tables\n",
    "\n",
    "- `select` statement can specify an input table using a `form` clause\n",
    "- subset of the rows of input table can be selected using a `where` clause\n",
    "- ordering over the remaining rows can be decalred using an `order by` clause\n",
    "\n",
    "```SQL\n",
    "select [expression] as [name] [expression] as [name], ...;\n",
    "select [columns] from [table] where [condition] order by [order];\n",
    "```\n",
    "\n",
    "```SQL\n",
    "select child from parents where parent = \"abraham\";\n",
    "select parent from parents where parent > child;\n",
    "```"
   ]
  },
  {
   "attachments": {},
   "cell_type": "markdown",
   "metadata": {},
   "source": [
    "## arithmetic\n",
    "\n",
    "combine row values and constants\n",
    "\n",
    "```SQL\n",
    "create table lift as \n",
    "    select 101 as chair, 2 as single, 2 as couple union\n",
    "    select 102          , 0         , 3         union\n",
    "    select 103          , 4         , 1;\n",
    "\n",
    "select chair, single + 2 * couple as total from lift;\n",
    "```"
   ]
  },
  {
   "attachments": {},
   "cell_type": "markdown",
   "metadata": {},
   "source": [
    "```SQL\n",
    "select word from ints where one + two/2 + four/4 + eight/8 = 1;\n",
    "```"
   ]
  }
 ],
 "metadata": {
  "kernelspec": {
   "display_name": "Python 3",
   "language": "python",
   "name": "python3"
  },
  "language_info": {
   "name": "python",
   "version": "3.9.12 (tags/v3.9.12:b28265d, Mar 23 2022, 23:52:46) [MSC v.1929 64 bit (AMD64)]"
  },
  "orig_nbformat": 4,
  "vscode": {
   "interpreter": {
    "hash": "8f939dc046ae95b61db57b1ddfb635e5199eac9f7bf30422bfd106b8f44dc254"
   }
  }
 },
 "nbformat": 4,
 "nbformat_minor": 2
}
