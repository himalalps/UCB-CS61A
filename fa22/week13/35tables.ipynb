{
 "cells": [
  {
   "attachments": {},
   "cell_type": "markdown",
   "metadata": {},
   "source": [
    "# tables\n",
    "\n",
    "## join tables\n",
    "\n",
    "two table `A` & `B` are joined by a comma to yield all combos of a row from `A` and a row from `B`\n",
    "\n",
    "```SQL\n",
    "create table dogs as\n",
    "    select \"abraham\" as name, \"long\" as fur union\n",
    "    select \"barack\", \"short\" union\n",
    "    ...;\n",
    "\n",
    "create table parents as\n",
    "    select \"abraham\" as parent, \"barack\" as child union\n",
    "    select \"abraham\", \"clinton\" union\n",
    "    ...;\n",
    "\n",
    "select parent from parents, dogs where child = name and fur = \"curly\";\n",
    "```"
   ]
  },
  {
   "attachments": {},
   "cell_type": "markdown",
   "metadata": {},
   "source": [
    "## aliases and dot expressions\n",
    "\n",
    "two tables may share a column name\n",
    "\n",
    "dot expressions and aliases disambiguate column values\n",
    "\n",
    "```SQL\n",
    "select a.child as first, b.child as second\n",
    "    from parents as a, parents as b\n",
    "    where a.parent = b.parent and a.child < b.child;\n",
    "```\n",
    "\n",
    "multiple tables can be joined to yield all combinations of rows from each\n",
    "\n",
    "```SQL\n",
    "create table grandparents as\n",
    "    select a.parent as grandog, b.child as granpup\n",
    "        from parents as a, parents as b\n",
    "        where b.parent = a.child;\n",
    "select grandog from grandparents, dogs as c, dogs as d\n",
    "    where grandog = c.name and granpup = d.name and c.fur = d.fur\n",
    "```"
   ]
  },
  {
   "attachments": {},
   "cell_type": "markdown",
   "metadata": {},
   "source": [
    "## numerical expressions\n",
    "\n",
    "expressions can contain function calls and arithmetic operators\n",
    "\n",
    "all are the same as scheme"
   ]
  },
  {
   "attachments": {},
   "cell_type": "markdown",
   "metadata": {},
   "source": [
    "## string expressions\n",
    "\n",
    "combined to form longer strings\n",
    "\n",
    "```SQL\n",
    "sqlite> select \"hello,\" || \" world\";\n",
    "hello, world\n",
    "```\n",
    "\n",
    "below is different from python\n",
    "\n",
    "```SQL\n",
    "sqlite> create table phrase as select \"hello, world\" as s;\n",
    "sqilte> select substr(s, 4, 2) || substr(s, instr(s, \" \") + 1, 1) from phrase;\n",
    "low\n",
    "```\n",
    "\n",
    "it is supported as string can be used to represent structured values but it's not a good idea\n",
    "\n",
    "```SQL\n",
    "sqlite> create table lists as select \"one\" as car, \"two,three,four\" as cdr;\n",
    "sqlite> select substr(cdr, 1, instr(cdr, \",\") - 1) as cadr from lists;\n",
    "two\n",
    "```"
   ]
  }
 ],
 "metadata": {
  "kernelspec": {
   "display_name": "Python 3",
   "language": "python",
   "name": "python3"
  },
  "language_info": {
   "name": "python",
   "version": "3.9.12 (tags/v3.9.12:b28265d, Mar 23 2022, 23:52:46) [MSC v.1929 64 bit (AMD64)]"
  },
  "orig_nbformat": 4,
  "vscode": {
   "interpreter": {
    "hash": "8f939dc046ae95b61db57b1ddfb635e5199eac9f7bf30422bfd106b8f44dc254"
   }
  }
 },
 "nbformat": 4,
 "nbformat_minor": 2
}
