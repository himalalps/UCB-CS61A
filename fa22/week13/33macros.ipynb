{
 "cells": [
  {
   "attachments": {},
   "cell_type": "markdown",
   "metadata": {},
   "source": [
    "# expression\n",
    "\n",
    "```scheme\n",
    "(define (square-expr term) `(* ,term ,term))\n",
    "`(+ ,(square-expr `a) ,(square-expr `b))\n",
    "```\n"
   ]
  },
  {
   "attachments": {},
   "cell_type": "markdown",
   "metadata": {},
   "source": [
    "# macro\n",
    "\n",
    "macros perform code transformation before evaluation\n",
    "\n",
    "`define-macro`\n",
    "\n",
    "```scheme\n",
    "(define-macro (twice expr) (list 'begin expr expr))\n",
    "```"
   ]
  },
  {
   "attachments": {},
   "cell_type": "markdown",
   "metadata": {},
   "source": [
    "```scheme\n",
    "(define-macro (check expr) \n",
    "            (list 'if expr ''passed \n",
    "                (list 'quote (list 'failed: expr))))\n",
    "(define x -2)\n",
    "(check (> x 0))\n",
    "```"
   ]
  },
  {
   "attachments": {},
   "cell_type": "markdown",
   "metadata": {},
   "source": [
    "define a macro that evaluates an expression for each value in a sequence\n",
    "\n",
    "```scheme\n",
    "(define-macro (for sym vals expr)\n",
    "    (list 'map (list 'lambda (list sym) expr) vals))\n",
    "```"
   ]
  },
  {
   "attachments": {},
   "cell_type": "markdown",
   "metadata": {},
   "source": [
    "# trace\n",
    "\n",
    "tracing recursive calls"
   ]
  },
  {
   "cell_type": "code",
   "execution_count": null,
   "metadata": {},
   "outputs": [],
   "source": [
    "def trace(fn):\n",
    "    def traced(n):\n",
    "        print(f'{fn.__name__}({n})')\n",
    "        return fn(n)\n",
    "    return traced"
   ]
  },
  {
   "attachments": {},
   "cell_type": "markdown",
   "metadata": {},
   "source": [
    "```scheme\n",
    "(define-macro (trace expr)\n",
    "    (define operator (car expr))\n",
    "        `(begin\n",
    "            (define original ,operator)\n",
    "            (define ,operator (lambda (n)\n",
    "                                (print (list (quote ,operator) n))\n",
    "                                (original n)))\n",
    "            (define result ,expr)\n",
    "            (define ,operator original)\n",
    "            result))"
   ]
  }
 ],
 "metadata": {
  "kernelspec": {
   "display_name": "Python 3",
   "language": "python",
   "name": "python3"
  },
  "language_info": {
   "name": "python",
   "version": "3.9.12 (tags/v3.9.12:b28265d, Mar 23 2022, 23:52:46) [MSC v.1929 64 bit (AMD64)]"
  },
  "orig_nbformat": 4,
  "vscode": {
   "interpreter": {
    "hash": "8f939dc046ae95b61db57b1ddfb635e5199eac9f7bf30422bfd106b8f44dc254"
   }
  }
 },
 "nbformat": 4,
 "nbformat_minor": 2
}
