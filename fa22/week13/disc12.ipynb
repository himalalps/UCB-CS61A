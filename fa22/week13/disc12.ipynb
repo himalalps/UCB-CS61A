{
 "cells": [
  {
   "attachments": {},
   "cell_type": "markdown",
   "metadata": {},
   "source": [
    "# Q1: shapeshifting macros\n",
    "\n",
    "```scheme\n",
    "scm> (eval '(begin (+ 1 1) (+ 2 3)))\n",
    "5\n",
    "scm> `(begin (+ 1 1) (+ 2 3))\n",
    "(begin (+ 1 1) (+ 2 3))\n",
    "scm> (list 'begin (list '+ 1 1) (list '+ 2 3))\n",
    "(begin (+ 1 1) (+ 2 3))\n",
    "scm> (cons 'begin (cons (cons '+ (cons 1 (cons 1 nil))) (cons (cons '+ (cons 2 (cons 3 nil))) nil)))\n",
    "(begin (+ 1 1) (+ 2 3))\n",
    "```"
   ]
  },
  {
   "attachments": {},
   "cell_type": "markdown",
   "metadata": {},
   "source": [
    "# Q2: multiple assignment\n",
    "\n",
    "```scheme\n",
    "(define-macro (multi-assign sym1 sym2 expr1 expr2)\n",
    "    `(begin (define ,sym1 ,expr1) (define ,sym2 ,expr2) undefined)\n",
    "); version 1, evaluates expr1 first, binds it to sym1, then evaluates expr2 and binds it to sym2\n",
    "\n",
    "(define-macro (multi-assign sym1 sym2 expr1 expr2)\n",
    "    `(begin (define ,sym2 (list ,expr1 ,expr2))\n",
    "            (define ,sym1 (car ,sym2))\n",
    "            (define ,sym2 (car (cdr ,sym2)))\n",
    "            undefined)\n",
    "); version 2, expr1 and expr2 should be both evaluated before being assigned to sym1 and sym2\n",
    "```"
   ]
  },
  {
   "attachments": {},
   "cell_type": "markdown",
   "metadata": {},
   "source": [
    "# Q3: replace\n",
    "\n",
    "```scheme\n",
    "(define (replace-helper e o n)\n",
    "    (if (equal? (car e) o)\n",
    "        (cons n (replace-helper (cdr e) o n))\n",
    "        (cons (car e) (replace-helper (cdr e) o n))))\n",
    "(define-macro (replace expr old new)\n",
    "    (replace-helper expr old new))\n",
    "```"
   ]
  },
  {
   "attachments": {},
   "cell_type": "markdown",
   "metadata": {},
   "source": [
    "# Q4: is tail call\n",
    "```scheme\n",
    "(define (question-a x)\n",
    "  (if (= x 0) 0\n",
    "      (+ x (question-a (- x 1))))) ; not tail call\n",
    "\n",
    "(define (question-b x y)\n",
    "  (if (= x 0) y\n",
    "      (question-b (- x 1) (+ y x)))) ; tail call\n",
    "\n",
    "(define (question-c x y)\n",
    "  (if (> x y)\n",
    "      (question-c (- y 1) x)\n",
    "      (question-c (+ x 10) y))) ; tail call\n",
    "\n",
    "(define (question-d n)\n",
    "  (if (question-d n) ; not tail call\n",
    "      (question-d (- n 1))\n",
    "      (question-d (+ n 10))))\n",
    "\n",
    "(define (question-e n)\n",
    "  (cond ((<= n 1) 1)\n",
    "        ((question-e (- n 1)) (question-e (- n 2))) ; not tail call\n",
    "        (else (begin (print 2) (question-e (- n 3))))))\n",
    "```"
   ]
  },
  {
   "attachments": {},
   "cell_type": "markdown",
   "metadata": {},
   "source": [
    "# Q5: sum\n",
    "\n",
    "```scheme\n",
    "(define (sum lst)\n",
    "    (if (null? lst) 0\n",
    "        (if (null? (cdr lst)) (car lst)\n",
    "            (sum (cons (+ (car lst) \n",
    "                            (car (cdr lst)))\n",
    "                     (cdr (cdr lst)))))))\n",
    "```"
   ]
  },
  {
   "attachments": {},
   "cell_type": "markdown",
   "metadata": {},
   "source": [
    "# Q6: reverse\n",
    "\n",
    "```scheme\n",
    "(define (reverse s)\n",
    "    (define (reverse-iter s r)\n",
    "        (if (null? s) r\n",
    "            (reverse-iter (cdr s)\n",
    "            (cons (car s) r))))\n",
    "    (reverse-iter s nil))\n",
    "```"
   ]
  }
 ],
 "metadata": {
  "kernelspec": {
   "display_name": "Python 3",
   "language": "python",
   "name": "python3"
  },
  "language_info": {
   "name": "python",
   "version": "3.9.12 (tags/v3.9.12:b28265d, Mar 23 2022, 23:52:46) [MSC v.1929 64 bit (AMD64)]"
  },
  "orig_nbformat": 4,
  "vscode": {
   "interpreter": {
    "hash": "8f939dc046ae95b61db57b1ddfb635e5199eac9f7bf30422bfd106b8f44dc254"
   }
  }
 },
 "nbformat": 4,
 "nbformat_minor": 2
}
