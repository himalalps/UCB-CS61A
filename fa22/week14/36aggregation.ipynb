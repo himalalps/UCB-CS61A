{
 "cells": [
  {
   "attachments": {},
   "cell_type": "markdown",
   "metadata": {},
   "source": [
    "# aggregation\n",
    "\n",
    "so far, all expressions have referred to the values in a single row at a time\n",
    "\n",
    "an aggregate function computes a value from a group of rows\n",
    "\n",
    "```SQL\n",
    "select max(legs) from animals;\n",
    "select sum(weight) from animals;\n",
    "select max(legs - weight) + 5 from animals;\n",
    "select max(legs), min(weight) from animals;\n",
    "select min(legs), max(weight) from animals where kind <> \"t-rex\";\n",
    "select count(legs) from animals;\n",
    "select count(distinct legs) from animals;\n",
    "select sum(distinct weight) from animals;\n",
    "```"
   ]
  },
  {
   "attachments": {},
   "cell_type": "markdown",
   "metadata": {},
   "source": [
    "```SQL\n",
    "select max(weight), kind from animals;\n",
    "select min(kind), kind from animals;\n",
    "select min(kind), legs, weight from animals;\n",
    "select avg(weight), kind from animals; -- not meaningful\n",
    "select max(legs), kind from animals; -- not particular\n",
    "```"
   ]
  },
  {
   "attachments": {},
   "cell_type": "markdown",
   "metadata": {},
   "source": [
    "# groups\n",
    "\n",
    "rows in a table can be grouped, and aggregation is performed on each group\n",
    "\n",
    "```SQL\n",
    "select [columns] from [table] group by [expression] having [expression];\n",
    "```\n",
    "\n",
    "```SQL\n",
    "select legs, max(weight) from animals group by legs;\n",
    "```"
   ]
  },
  {
   "attachments": {},
   "cell_type": "markdown",
   "metadata": {},
   "source": [
    "```SQL\n",
    "select legs, count(*) from animals group by legs;\n",
    "select legs, max(weight) from animals group by legs;\n",
    "select legs, weight from animals group by legs, weight;\n",
    "select max(kind), weight / legs from animals group by legs / weight;\n",
    "```"
   ]
  },
  {
   "attachments": {},
   "cell_type": "markdown",
   "metadata": {},
   "source": [
    "`having` clause filters the set of groups that are aggregated\n",
    "\n",
    "```SQL\n",
    "select weight/legs, count(*) from animals group by weight/legs having count(*) > 1;\n",
    "```"
   ]
  }
 ],
 "metadata": {
  "kernelspec": {
   "display_name": "Python 3",
   "language": "python",
   "name": "python3"
  },
  "language_info": {
   "name": "python",
   "version": "3.9.12 (tags/v3.9.12:b28265d, Mar 23 2022, 23:52:46) [MSC v.1929 64 bit (AMD64)]"
  },
  "orig_nbformat": 4,
  "vscode": {
   "interpreter": {
    "hash": "8f939dc046ae95b61db57b1ddfb635e5199eac9f7bf30422bfd106b8f44dc254"
   }
  }
 },
 "nbformat": 4,
 "nbformat_minor": 2
}
